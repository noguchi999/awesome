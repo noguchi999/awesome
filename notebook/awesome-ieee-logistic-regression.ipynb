{
 "cells": [
  {
   "cell_type": "code",
   "execution_count": 1,
   "metadata": {
    "_cell_guid": "b1076dfc-b9ad-4769-8c92-a6c4dae69d19",
    "_uuid": "8f2839f25d086af736a60e9eeb907d3b93b6e0e5"
   },
   "outputs": [],
   "source": [
    "import numpy as np\n",
    "import pandas as pd\n",
    "import os, sys, gc, warnings, time, datetime, random, pickle\n",
    "\n",
    "from contextlib import contextmanager\n",
    "from pandas.core.common import SettingWithCopyWarning\n",
    "\n",
    "from sklearn.metrics import roc_auc_score, roc_curve, accuracy_score\n",
    "from sklearn.model_selection import KFold, StratifiedKFold, train_test_split, TimeSeriesSplit, GroupKFold\n",
    "\n",
    "from sklearn.linear_model import LogisticRegression\n",
    "\n",
    "from tqdm import tqdm_notebook, tnrange\n",
    "from tqdm.auto import tqdm\n",
    "\n",
    "import matplotlib.pyplot as plt\n",
    "import seaborn as sns\n",
    "color = sns.color_palette()\n",
    "\n",
    "warnings.filterwarnings('ignore')\n",
    "warnings.simplefilter(action='ignore', category=SettingWithCopyWarning)\n",
    "warnings.simplefilter(action='ignore', category=FutureWarning)"
   ]
  },
  {
   "cell_type": "code",
   "execution_count": 2,
   "metadata": {
    "_cell_guid": "79c7e3d0-c299-4dcb-8224-4455121ee9b0",
    "_uuid": "d629ff2d2480ee46fbb7e2d37f6b5fab8052498a"
   },
   "outputs": [],
   "source": [
    "def seed_everything(seed=0):\n",
    "    random.seed(seed)\n",
    "    os.environ['PYTHONHASHSEED'] = str(seed)\n",
    "    np.random.seed(seed)"
   ]
  },
  {
   "cell_type": "code",
   "execution_count": 3,
   "metadata": {},
   "outputs": [],
   "source": [
    "TARGET = \"k_class\"\n",
    "SEED = 42\n",
    "seed_everything(SEED)"
   ]
  },
  {
   "cell_type": "code",
   "execution_count": 4,
   "metadata": {},
   "outputs": [],
   "source": [
    "@contextmanager\n",
    "def timer(title):\n",
    "    t0 = time.time()\n",
    "    yield\n",
    "    print(\"{} - done in {:.0f}s\".format(title, time.time() - t0))"
   ]
  },
  {
   "cell_type": "code",
   "execution_count": 5,
   "metadata": {},
   "outputs": [],
   "source": [
    "def kfold_logistic_regression(train_file_path, test_file_path, num_folds, stratified=False):\n",
    "    if stratified:\n",
    "        folds = StratifiedKFold(n_splits=num_folds, shuffle=True, random_state=SEED)\n",
    "    else:\n",
    "        folds = KFold(n_splits=num_folds, shuffle=True, random_state=SEED)\n",
    "    \n",
    "    train_df = pd.read_pickle(train_file_path)\n",
    "    test_df  = pd.read_pickle(test_file_path)\n",
    "    \n",
    "    train_df.columns = range(0, 38)\n",
    "    test_df.columns = range(0, 38)\n",
    "    df = pd.read_pickle(\"./structure_df_01.pkl\")\n",
    "    train_df[\"k_class\"] = df[\"k_class\"]\n",
    "\n",
    "    feats = list(range(0, 38))\n",
    "    oof_preds = np.zeros(train_df.shape[0])\n",
    "    sub_preds = np.zeros(test_df.shape[0])\n",
    "    feature_importance_df = pd.DataFrame()\n",
    "            \n",
    "    scores = []\n",
    "    for n_fold, (train_idx, valid_idx) in enumerate(folds.split(train_df[feats], train_df[TARGET])):\n",
    "        print(f\"Fold: {n_fold}\")\n",
    "        train_x, train_y = train_df[feats].iloc[train_idx], train_df[TARGET].iloc[train_idx]\n",
    "        valid_x, valid_y = train_df[feats].iloc[valid_idx], train_df[TARGET].iloc[valid_idx]\n",
    "        \n",
    "        train_x = train_x.to_numpy()\n",
    "        train_y = train_y.to_numpy()\n",
    "        valid_x = valid_x.to_numpy()\n",
    "        valid_y = valid_y.to_numpy()\n",
    "        \n",
    "        model = LogisticRegression(solver='liblinear', multi_class='ovr', n_jobs=-1)\n",
    "                \n",
    "        model.fit(train_x, train_y)\n",
    "        scores.append(model.score(valid_x, valid_y))\n",
    "        \n",
    "        del train_x, train_y\n",
    "        gc.collect()\n",
    "                \n",
    "        oof_preds[valid_idx] = model.predict_proba(valid_x)[:,1]\n",
    "            \n",
    "    train_df.loc[:, \"pred\"] = model.predict(test_df[feats])\n",
    "    \n",
    "    feature_importance = abs(model.coef_[0])\n",
    "    feature_importance = 100.0 * (feature_importance / feature_importance.max())\n",
    "    sorted_idx = np.argsort(feature_importance)\n",
    "    pos = np.arange(sorted_idx.shape[0]) + .5\n",
    "\n",
    "    featfig = plt.figure()\n",
    "    featax = featfig.add_subplot(1, 1, 1)\n",
    "    featax.barh(pos, feature_importance[sorted_idx], align='center')\n",
    "    featax.set_yticks(pos)\n",
    "    featax.set_yticklabels(np.array(feats)[sorted_idx], fontsize=8)\n",
    "    featax.set_xlabel('Relative Feature Importance')\n",
    "    \n",
    "    feature_importance_df = pd.DataFrame()\n",
    "    feature_importance_df[\"feature\"] = np.array(feats)[sorted_idx]\n",
    "    feature_importance_df[\"importance\"] = feature_importance[sorted_idx]\n",
    "    feature_importance_df.to_csv(\"feature_importance_lr.csv\", index=False)\n",
    "    \n",
    "    plt.tight_layout()   \n",
    "    plt.show()\n",
    "    \n",
    "    return train_df"
   ]
  },
  {
   "cell_type": "code",
   "execution_count": 6,
   "metadata": {},
   "outputs": [
    {
     "name": "stdout",
     "output_type": "stream",
     "text": [
      "Fold: 0\n",
      "Fold: 1\n",
      "Fold: 2\n",
      "Fold: 3\n",
      "Fold: 4\n"
     ]
    },
    {
     "data": {
      "image/png": "[encoded data removed]",
      "text/plain": [
       "<Figure size 432x288 with 1 Axes>"
      ]
     },
     "metadata": {
      "needs_background": "light"
     },
     "output_type": "display_data"
    },
    {
     "name": "stdout",
     "output_type": "stream",
     "text": [
      "Run Logistic Regression with kfold - done in 2s\n"
     ]
    }
   ],
   "source": [
    "submission = None\n",
    "with timer(\"Run Logistic Regression with kfold\"):\n",
    "    submission = kfold_logistic_regression(\n",
    "        train_file_path=\"./structure_train_01.pkl\", \n",
    "        test_file_path=\"./structure_train_01.pkl\", \n",
    "        num_folds=5, stratified=False)\n",
    "\n",
    "df = pd.read_pickle(\"./structure_df_01.pkl\")\n",
    "df[\"pred\"] = submission[\"pred\"]\n",
    "df.to_csv(\"./logistic-regression.csv\", index=False)"
   ]
  },
  {
   "cell_type": "code",
   "execution_count": null,
   "metadata": {},
   "outputs": [],
   "source": []
  }
 ],
 "metadata": {
  "kernelspec": {
   "display_name": "Python 3",
   "language": "python",
   "name": "python3"
  },
  "language_info": {
   "codemirror_mode": {
    "name": "ipython",
    "version": 3
   },
   "file_extension": ".py",
   "mimetype": "text/x-python",
   "name": "python",
   "nbconvert_exporter": "python",
   "pygments_lexer": "ipython3",
   "version": "3.7.4"
  }
 },
 "nbformat": 4,
 "nbformat_minor": 4
}

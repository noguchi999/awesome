{
 "cells": [
  {
   "cell_type": "code",
   "execution_count": 1,
   "metadata": {},
   "outputs": [],
   "source": [
    "import os, datetime, time, re, warnings, gc, json, random, yaml, pickle\n",
    "\n",
    "from abc import ABCMeta, abstractmethod\n",
    "from pathlib import Path\n",
    "from contextlib import contextmanager\n",
    "import multiprocessing\n",
    "from multiprocessing import Pool\n",
    "\n",
    "import numpy as np\n",
    "import pandas as pd\n",
    "from pandas.api.types import CategoricalDtype\n",
    "from pandas.core.common import SettingWithCopyWarning\n",
    "\n",
    "from sklearn.metrics import mean_squared_error, log_loss, roc_auc_score, f1_score\n",
    "from sklearn import datasets, manifold, mixture, model_selection\n",
    "from sklearn.preprocessing import LabelEncoder, OneHotEncoder, StandardScaler, PowerTransformer, MinMaxScaler\n",
    "from sklearn.feature_extraction.text import CountVectorizer, TfidfVectorizer\n",
    "from sklearn.model_selection import KFold, StratifiedKFold, GroupKFold\n",
    "from sklearn.cluster import MiniBatchKMeans\n",
    "\n",
    "from scipy.sparse import vstack, csr_matrix, save_npz, load_npz, hstack\n",
    "\n",
    "from gensim import corpora, models, similarities\n",
    "from gensim.models import Word2Vec\n",
    "\n",
    "import lightgbm as lgb\n",
    "import optuna.integration.lightgbm as tuna\n",
    "\n",
    "import matplotlib.pyplot as plt\n",
    "import seaborn as sns\n",
    "color = sns.color_palette()\n",
    "\n",
    "warnings.simplefilter(action=\"ignore\", category=SettingWithCopyWarning)\n",
    "warnings.simplefilter(action=\"ignore\", category=FutureWarning)\n",
    "\n",
    "pd.set_option(\"display.width\", 1000)\n",
    "pd.set_option(\"display.max_columns\", 256)\n",
    "pd.set_option(\"display.max_rows\", 256)"
   ]
  },
  {
   "cell_type": "code",
   "execution_count": 2,
   "metadata": {},
   "outputs": [],
   "source": [
    "@contextmanager\n",
    "def timer(title):\n",
    "    t0 = time.time()\n",
    "    print(f'[{title}] start')\n",
    "    yield\n",
    "    print(\"{} - done in {:.0f}s\".format(title, time.time() - t0))"
   ]
  },
  {
   "cell_type": "code",
   "execution_count": 3,
   "metadata": {},
   "outputs": [],
   "source": [
    "class FeatureEngineering(metaclass=ABCMeta):\n",
    "    BASE_DIR = \".\"\n",
    "    NUMERICS = [\"int16\", \"int32\", \"int64\", \"float16\", \"float32\", \"float64\"]\n",
    "    \n",
    "    def __init__(self):\n",
    "        self.name = self.__class__.__name__\n",
    "        self.train = pd.DataFrame()\n",
    "        self.test = pd.DataFrame()\n",
    "        self.train_file_path = f\"{Path(self.BASE_DIR)}/{self.name.lower()}_train\"\n",
    "        self.test_file_path = f\"{Path(self.BASE_DIR)}/{self.name.lower()}_test\"\n",
    "    \n",
    "    @abstractmethod\n",
    "    def load_data(self):\n",
    "        raise NotImplementedError\n",
    "\n",
    "    @abstractmethod\n",
    "    def create_features(self):\n",
    "        raise NotImplementedError\n",
    "        \n",
    "    def run(self, use_columns=[], skip_columns=[]):\n",
    "        with timer(self.name):\n",
    "            self.load_data()\n",
    "            self.replace_na(use_columns=use_columns, skip_columns=skip_columns)\n",
    "            self.onehot_encode(use_columns=use_columns, skip_columns=skip_columns)\n",
    "            self.create_features()\n",
    "        \n",
    "        return self\n",
    "    \n",
    "    def onehot_encode(self, use_columns=[], skip_columns=[], sparse=False):\n",
    "        use_columns = use_columns if use_columns else [c for c in self.train.columns if c not in skip_columns]\n",
    "        self.label_encode(use_columns, skip_columns)\n",
    "        if sparse:\n",
    "            encoder = OneHotEncoder(categories='auto', sparse=sparse, dtype='uint8').fit(pd.concat([self.train.loc[:, use_columns], self.test.loc[:, use_columns]]))\n",
    "            m = 100000\n",
    "            train = vstack([encoder.transform(self.train[i*m:(i+1)*m].loc[:, use_columns]) for i in range(self.train.shape[0] // m + 1)])\n",
    "            test  = vstack([encoder.transform(self.test[i*m:(i+1)*m].loc[:, use_columns])  for i in range(self.test.shape[0] // m +  1)])\n",
    "            save_npz(f\"{self.train_file_path}.npz\", train, compressed=True)\n",
    "            save_npz(f\"{self.test_file_path}.npz\",  test,  compressed=True)\n",
    "        else:\n",
    "            self.train[\"is_train_date\"] = 1\n",
    "            self.test[\"is_train_date\"]  = 0\n",
    "            df = pd.concat([self.train, self.test])\n",
    "            del self.train, self.test\n",
    "            gc.collect()\n",
    "            for col in use_columns:\n",
    "                df = df.join(pd.get_dummies(df[col], prefix=col))\n",
    "            \n",
    "            self.train = df[df[\"is_train_date\"]==1]\n",
    "            self.test = df[df[\"is_train_date\"]==0]\n",
    "            self.train.drop(columns=\"is_train_date\", inplace=True)\n",
    "            self.test.drop(columns=\"is_train_date\", inplace=True)\n",
    "            \n",
    "        return self\n",
    "    \n",
    "    def label_encode(self, use_columns=[], skip_columns=[]):\n",
    "        use_columns = use_columns if use_columns else [c for c in self.train.columns if c not in skip_columns]\n",
    "        \n",
    "        border = self.train.shape[0]\n",
    "        df = pd.concat([self.train, self.test], ignore_index=True)\n",
    "        del self.train, self.test\n",
    "        gc.collect()\n",
    "        \n",
    "        for col in use_columns:\n",
    "            if df[col].dtype.name in [\"object\", \"category\"]:\n",
    "                df[col] = df[col].astype(str)\n",
    "                le = LabelEncoder().fit(df[col])\n",
    "                df[col] = le.transform(df[col])+1\n",
    "    \n",
    "        self.train = df.iloc[:border]\n",
    "        self.test = df.iloc[border:]\n",
    "    \n",
    "        return self\n",
    "    \n",
    "    def target_encode(self, col_name, target_name, min_samples_leaf=1, smoothing=1, noise_level=0):\n",
    "        trn_series = self.train[col_name]\n",
    "        tst_series = self.test[col_name]\n",
    "        target = self.train[target_name]\n",
    "        \n",
    "        assert len(trn_series) == len(target)\n",
    "\n",
    "        temp = pd.concat([trn_series, target], axis=1)\n",
    "        averages = temp.groupby(by=trn_series.name)[target.name].agg([\"mean\", \"count\"])\n",
    "        smoothing = 1 / (1 + np.exp(-(averages[\"count\"] - min_samples_leaf) / smoothing))\n",
    "        prior = target.mean()\n",
    "        averages[target.name] = prior * (1 - smoothing) + averages[\"mean\"] * smoothing\n",
    "        averages.drop([\"mean\", \"count\"], axis=1, inplace=True)\n",
    "        ft_trn_series = pd.merge(\n",
    "            trn_series.to_frame(trn_series.name),\n",
    "            averages.reset_index().rename(columns={'index': target.name, target.name: 'average'}),\n",
    "            on=trn_series.name,\n",
    "            how='left')['average'].rename(trn_series.name + '_mean').fillna(prior)\n",
    "        ft_trn_series.index = trn_series.index \n",
    "        ft_tst_series = pd.merge(\n",
    "            tst_series.to_frame(tst_series.name),\n",
    "            averages.reset_index().rename(columns={'index': target.name, target.name: 'average'}),\n",
    "            on=tst_series.name,\n",
    "            how='left')['average'].rename(trn_series.name + '_mean').fillna(prior)\n",
    "        ft_tst_series.index = tst_series.index\n",
    "\n",
    "        self.train[f\"te_smoothing_{col_name}\"], self.test[f\"te_smoothing_{col_name}\"] = self.__add_noise(ft_trn_series, noise_level), self.__add_noise(ft_tst_series, noise_level)\n",
    "        \n",
    "        return self\n",
    "    \n",
    "    def agg_transform(self, group, agg, prefix=\"\"):\n",
    "        if prefix:\n",
    "            prefix += \"_\"\n",
    "        else:\n",
    "            prefix = f\"{'_'.join(group)}_\" if type(group) is list else f\"{group}_\"\n",
    "\n",
    "        border = self.train.shape[0]\n",
    "        df = pd.concat([self.train, self.test], ignore_index=True)\n",
    "        del self.train, self.test\n",
    "        gc.collect()\n",
    "            \n",
    "        for k, v in agg.items():\n",
    "            if type(v) is str:\n",
    "                df[f\"{prefix}{k}_{v}\"] = df.groupby(group)[k].transform(v)\n",
    "            else:\n",
    "                for vv in v:\n",
    "                    df[f\"{prefix}{k}_{vv}\"] = df.groupby(group)[k].transform(vv)\n",
    "        \n",
    "        self.train = df.iloc[:border]\n",
    "        self.test = df.iloc[border:]\n",
    "        \n",
    "        return self\n",
    "    \n",
    "    def agg_transform_ratio(self, group, agg, prefix=\"\"):\n",
    "        if prefix:\n",
    "            prefix += \"_\"\n",
    "        else:\n",
    "            prefix = f\"{'_'.join(group)}_\" if type(group) is list else f\"{group}_\"\n",
    "        prefix = f\"ratio_{prefix}\"\n",
    "        \n",
    "        for k, v in agg.items():\n",
    "            if type(v) is str:\n",
    "                self.train[f\"{prefix}{k}_{v}\"] = self.train[k] / self.train.groupby(group)[k].transform(v)\n",
    "                self.test[f\"{prefix}{k}_{v}\"] = self.test[k] / self.test.groupby(group)[k].transform(v)\n",
    "            else:\n",
    "                for vv in v:\n",
    "                    self.train[f\"{prefix}{k}_{vv}\"] = self.train[k] / self.train.groupby(group)[k].transform(vv)\n",
    "                    self.test[f\"{prefix}{k}_{vv}\"] = self.test[k] / self.test.groupby(group)[k].transform(vv)\n",
    "        \n",
    "        return self\n",
    "    \n",
    "    def replace_na(self, use_columns=[], skip_columns=[], fill_value=-1):\n",
    "        use_columns = use_columns if use_columns else [c for c in self.train.columns if c not in skip_columns]\n",
    "        for col in use_columns:\n",
    "            if isinstance(self.train[col].dtype, CategoricalDtype):\n",
    "                self.train[col] = self.train[col].cat.add_categories(str(fill_value)).replace(np.inf, np.nan).replace(-np.inf, np.nan).fillna(str(fill_value))\n",
    "                self.test[col] = self.test[col].cat.add_categories(str(fill_value)).replace(np.inf, np.nan).replace(-np.inf, np.nan).fillna(str(fill_value))\n",
    "            else:\n",
    "                self.train[col] = self.train[col].replace(np.inf, np.nan).replace(-np.inf, np.nan).fillna(fill_value)\n",
    "                self.test[col] = self.test[col].replace(np.inf, np.nan).replace(-np.inf, np.nan).fillna(fill_value)\n",
    "\n",
    "        return self\n",
    "    \n",
    "    def replace_na_mode(self, use_columns=[], skip_columns=[]):\n",
    "        use_columns = use_columns if use_columns else [c for c in self.train.columns if c not in skip_columns]\n",
    "        for col in use_columns:\n",
    "            self.train[col] = self.train[col].replace(np.inf, np.nan).replace(-np.inf, np.nan).fillna(self.train[col].mode().values[0])\n",
    "            self.test[col] = self.test[col].replace(np.inf, np.nan).replace(-np.inf, np.nan).fillna(self.test[col].mode().values[0])\n",
    "\n",
    "        return self\n",
    "    \n",
    "    def replace_na_mean(self, use_columns=[], skip_columns=[]):\n",
    "        use_columns = use_columns if use_columns else [c for c in self.train.columns if c not in skip_columns]\n",
    "        for col in use_columns:\n",
    "            if isinstance(self.train[col].dtype, CategoricalDtype):\n",
    "                self.train[col] = self.train[col].cat.add_categories(str(fill_value)).replace(np.inf, np.nan).replace(-np.inf, np.nan).fillna(str(-1))\n",
    "                self.test[col] = self.test[col].cat.add_categories(str(fill_value)).replace(np.inf, np.nan).replace(-np.inf, np.nan).fillna(str(-1))\n",
    "            else:\n",
    "                self.train[col] = self.train[col].replace(np.inf, np.nan).replace(-np.inf, np.nan).fillna(self.train[col].mean())\n",
    "                self.test[col] = self.test[col].replace(np.inf, np.nan).replace(-np.inf, np.nan).fillna(self.test[col].mean())\n",
    "\n",
    "        return self\n",
    "\n",
    "    def replace_na_median(self, use_columns=[], skip_columns=[]):\n",
    "        use_columns = use_columns if use_columns else [c for c in self.train.columns if c not in skip_columns]\n",
    "        for col in use_columns:\n",
    "            if isinstance(self.train[col].dtype, CategoricalDtype):\n",
    "                self.train[col] = self.train[col].cat.add_categories(str(fill_value)).replace(np.inf, np.nan).replace(-np.inf, np.nan).fillna(str(-1))\n",
    "                self.test[col] = self.test[col].cat.add_categories(str(fill_value)).replace(np.inf, np.nan).replace(-np.inf, np.nan).fillna(str(-1))\n",
    "            else:\n",
    "                self.train[col] = self.train[col].replace(np.inf, np.nan).replace(-np.inf, np.nan).fillna(self.train[col].median())\n",
    "                self.test[col] = self.test[col].replace(np.inf, np.nan).replace(-np.inf, np.nan).fillna(self.test[col].median())\n",
    "\n",
    "        return self\n",
    "    \n",
    "    def calc_topic_score(self, topic_text_columns, num_topics=5):\n",
    "        df = pd.concat([self.train.loc[:, topic_text_columns], self.test.loc[:, topic_text_columns]])\n",
    "        \n",
    "        for col in topic_text_columns:\n",
    "            texts = [[word for word in document.lower().split()] for document in df[col].values]\n",
    "            dictionary = corpora.Dictionary(texts)\n",
    "            bow_corpus = [dictionary.doc2bow(t) for t in texts]\n",
    "            lda = models.LdaModel(bow_corpus, id2word=dictionary, num_topics=num_topics)\n",
    "                        \n",
    "            size = df.shape[0]\n",
    "            topics = {i:[-1]*size for i in range(num_topics)}\n",
    "            for i, row in enumerate(lda[bow_corpus]):\n",
    "                for (topic_num, prop_topic) in row:\n",
    "                    topics[topic_num][i] = prop_topic\n",
    "            \n",
    "            for i in range(num_topics):\n",
    "                self.train[f\"{col}_topic_{i}\"] = topics[i][:self.train.shape[0]]\n",
    "                self.test[f\"{col}_topic_{i}\"] = topics[i][self.train.shape[0]:]\n",
    "\n",
    "        return self\n",
    "    \n",
    "    def calc_scdv_word2vec_score(self, text_col_name):\n",
    "        features_num = 20\n",
    "        min_word_count = 10\n",
    "        context = 5\n",
    "        downsampling = 1e-3\n",
    "        epoch_num = 10\n",
    "        clusters_num = 6\n",
    "        \n",
    "        df = pd.concat([self.train.loc[:, [text_col_name]], self.test.loc[:, [text_col_name]]])\n",
    "        df[text_col_name] = df[text_col_name].fillna(\"\")\n",
    "        \n",
    "        corpus = [self.__analyzer_cat(text) for text in df[text_col_name]]\n",
    "        word2vecs = Word2Vec(sentences=corpus, iter=epoch_num, size=features_num, min_count=min_word_count, window=context, sample=downsampling)\n",
    "        word_vectors = word2vecs.wv.vectors\n",
    "        \n",
    "        gmm = mixture.GaussianMixture(n_components=clusters_num, covariance_type='tied', max_iter=50)\n",
    "        gmm.fit(word_vectors)\n",
    "        \n",
    "        tfidf_vectorizer = TfidfVectorizer(analyzer=self.__analyzer_cat, min_df=min_word_count)\n",
    "        tfidfs = tfidf_vectorizer.fit_transform(df[text_col_name])\n",
    "        \n",
    "        idf_dic = dict(zip(tfidf_vectorizer.get_feature_names(), tfidf_vectorizer._tfidf.idf_))\n",
    "        assign_dic = dict(zip(word2vecs.wv.index2word, gmm.predict(word_vectors)))\n",
    "        soft_assign_dic = dict(zip(word2vecs.wv.index2word, gmm.predict_proba(word_vectors)))\n",
    "        \n",
    "        word_topic_vecs = {}\n",
    "        for word in assign_dic:\n",
    "            word_topic_vecs[word] = np.zeros(features_num*clusters_num, dtype=np.float32)\n",
    "            for i in range(0, clusters_num):\n",
    "                try:\n",
    "                    word_topic_vecs[word][i*features_num:(i+1)*features_num] = word2vecs.wv[word]*soft_assign_dic[word][i]*idf_dic[word]\n",
    "                except:\n",
    "                    continue\n",
    "        \n",
    "        scdvs = np.zeros((len(df[text_col_name]), clusters_num*features_num), dtype=np.float32)\n",
    "\n",
    "        a_min = 0\n",
    "        a_max = 0\n",
    "\n",
    "        for i, text in enumerate(df[text_col_name]):\n",
    "            tmp = np.zeros(clusters_num*features_num, dtype=np.float32)\n",
    "            words = self.__analyzer_cat(text)\n",
    "            for word in words:\n",
    "                if word in word_topic_vecs:\n",
    "                    tmp += word_topic_vecs[word]\n",
    "            norm = np.sqrt(np.sum(tmp**2))\n",
    "            if norm > 0:\n",
    "                tmp /= norm\n",
    "            a_min += min(tmp)\n",
    "            a_max += max(tmp)\n",
    "            scdvs[i] = tmp\n",
    "\n",
    "        p = 0.04\n",
    "        a_min = a_min*1.0 / len(df[text_col_name])\n",
    "        a_max = a_max*1.0 / len(df[text_col_name])\n",
    "        thres = (abs(a_min)+abs(a_max)) / 2\n",
    "        thres *= p\n",
    "        scdvs[abs(scdvs) < thres] = 0\n",
    "        \n",
    "        tsne_scdv = manifold.TSNE(n_components=2).fit_transform(scdvs)\n",
    "        \n",
    "        self.train[f\"scdv_{text_col_name}_x\"] = tsne_scdv[:self.train.shape[0], 0]\n",
    "        self.train[f\"scdv_{text_col_name}_y\"] = tsne_scdv[:self.train.shape[0], 1]        \n",
    "        self.test[f\"scdv_{text_col_name}_x\"] = tsne_scdv[self.train.shape[0]:, 0]\n",
    "        self.test[f\"scdv_{text_col_name}_y\"] = tsne_scdv[self.train.shape[0]:, 1]\n",
    "        \n",
    "        return self\n",
    "    \n",
    "    def yeo_johnson(self, skip_columns=[]):\n",
    "        border = self.train.shape[0]\n",
    "        df = pd.concat([self.train, self.test], ignore_index=True)\n",
    "        del self.train, self.test\n",
    "        gc.collect()\n",
    "        \n",
    "        feats = [f for f in df.columns if f not in skip_columns]\n",
    "        num_columns = [col for col in feats if df[col].dtype.name in FeatureEngineering.NUMERICS]\n",
    "        pt = PowerTransformer(method='yeo-johnson')\n",
    "        pt.fit(df[num_columns])\n",
    "\n",
    "        df[num_columns] = pt.transform(df[num_columns])\n",
    "        \n",
    "        self.train = df.iloc[:border]\n",
    "        self.test = df.iloc[border:]\n",
    "        \n",
    "        return self\n",
    "    \n",
    "    def umap_scaler(self, skip_columns=[]):\n",
    "        self.yeo_johnson(skip_columns=skip_columns)\n",
    "        \n",
    "        border = self.train.shape[0]\n",
    "        df = pd.concat([self.train, self.test], ignore_index=True)\n",
    "        del self.train, self.test\n",
    "        gc.collect()\n",
    "\n",
    "        feats = [f for f in df.columns if f not in skip_columns]\n",
    "        num_columns = [col for col in feats if df[col].dtype.name in FeatureEngineering.NUMERICS and df[col].unique().shape[0] > 100]\n",
    "        for col in num_columns:\n",
    "            df[col] = df[col].replace(np.inf, np.nan)\n",
    "            df[col].fillna(-9999, inplace=True)\n",
    "        \n",
    "        um = umap.UMAP()\n",
    "        um.fit(df[num_columns])\n",
    "        d = um.transform(df[num_columns])\n",
    "        df[\"umap_d1\"] = d[:, 0]\n",
    "        df[\"umap_d2\"] = d[:, 1]\n",
    "        \n",
    "        self.train = df.iloc[:border]\n",
    "        self.test = df.iloc[border:]\n",
    "        \n",
    "        return self\n",
    "    \n",
    "    def create_kmean_features(self, seed, skip_columns=[]):\n",
    "        border = self.train.shape[0]\n",
    "        df = pd.concat([self.train, self.test], ignore_index=True)\n",
    "        del self.train, self.test\n",
    "        gc.collect()\n",
    "\n",
    "        feats = [f for f in df.columns if f not in skip_columns]\n",
    "        num_columns = [col for col in feats if df[col].dtype.name in FeatureEngineering.NUMERICS]\n",
    "        for col in num_columns:\n",
    "            df[col].fillna(-9999, inplace=True)\n",
    "        X = df[num_columns]\n",
    "        \n",
    "        kmeans = MiniBatchKMeans(n_clusters=10, random_state=seed)\n",
    "        kmeans.fit(X)\n",
    "\n",
    "        df[\"k_class\"] = kmeans.predict(X)\n",
    "        train_distances = kmeans.transform(X)\n",
    "        for i in range(10):\n",
    "            df[f\"k_distance_{i}\"] = train_distances[:, i]\n",
    "    \n",
    "        self.train = df.iloc[:border]\n",
    "        self.test = df.iloc[border:]\n",
    "        \n",
    "        return self\n",
    "    \n",
    "    def min_max_scaling(self, skip_columns=[]):\n",
    "        border = self.train.shape[0]\n",
    "        df = pd.concat([self.train, self.test], ignore_index=True)\n",
    "        del self.train, self.test\n",
    "        gc.collect()\n",
    "\n",
    "        feats = [f for f in df.columns if f not in skip_columns]\n",
    "        num_columns = [col for col in feats if df[col].dtype.name in FeatureEngineering.NUMERICS]\n",
    "        \n",
    "        scaler = MinMaxScaler()\n",
    "        scaler.fit(df[num_columns])\n",
    "        df[num_columns] = scaler.transform(df[num_columns])\n",
    "        \n",
    "        self.train = df.iloc[:border]\n",
    "        self.test = df.iloc[border:]\n",
    "        \n",
    "        return self\n",
    "    \n",
    "    def two_by_two(self, skip_columns=[]):\n",
    "        border = self.train.shape[0]\n",
    "        df = pd.concat([self.train, self.test], ignore_index=True)\n",
    "        del self.train, self.test\n",
    "        gc.collect()\n",
    "\n",
    "        feats = [f for f in df.columns if f not in skip_columns]\n",
    "        num_columns = [col for col in feats if df[col].dtype.name in FeatureEngineering.NUMERICS]\n",
    "        targets = num_columns.copy()\n",
    "        for col in num_columns:\n",
    "            targets.remove(col)\n",
    "            for t in targets:\n",
    "                df[f\"{col}_{t}_mul\"] = df[col] * df[t]\n",
    "                df[f\"{col}_{t}_sub_left\"] = df[col] / df[t]\n",
    "                df[f\"{col}_{t}_sub_right\"] = df[t] / df[col]\n",
    "        \n",
    "        self.train = df.iloc[:border]\n",
    "        self.test = df.iloc[border:]\n",
    "        \n",
    "        return self\n",
    "    \n",
    "    def columns_1d(self):\n",
    "        self.train.columns = pd.Index([(e[0] + \"_\" + e[1].lower()) if (len(e[1]) > 0) else e[0] for e in self.train.columns.tolist()])\n",
    "        self.test.columns = pd.Index([(e[0] + \"_\" + e[1].lower()) if (len(e[1]) > 0) else e[0] for e in self.test.columns.tolist()])\n",
    "\n",
    "        return self\n",
    "    \n",
    "    def head(self, title=\"\", columns=[], limit=5):\n",
    "        train_cols, test_cols = (columns, columns) if columns else (self.train.columns, self.test.columns)\n",
    "        \n",
    "        print(f\"train head: {title}\")\n",
    "        print(self.train.loc[:, train_cols].head(limit))\n",
    "        print(\"----------------------------\")\n",
    "        print(f\"test head: {title}\")\n",
    "        print(self.test.loc[:, test_cols].head(limit))\n",
    "        print(\"----------------------------\")\n",
    "        \n",
    "        return self\n",
    "    \n",
    "    def tail(self, title=\"\", columns=[], limit=5):\n",
    "        train_cols, test_cols = (columns, columns) if columns else (self.train.columns, self.test.columns)\n",
    "        \n",
    "        print(f\"train tail: {title}\")\n",
    "        print(self.train.loc[:, train_cols].tail(limit))\n",
    "        print(\"----------------------------\")\n",
    "        print(f\"test tail: {title}\")\n",
    "        print(self.test.loc[:, test_cols].tail(limit))\n",
    "        print(\"----------------------------\")\n",
    "        \n",
    "        return self\n",
    "    \n",
    "    def save(self, format=\"feather\", index=False):\n",
    "        if format == \"feather\":\n",
    "            self.train.to_feather(f\"{self.train_file_path}.ftr\")\n",
    "            self.test.to_feather(f\"{self.test_file_path}.ftr\")\n",
    "        elif format == \"csv\":\n",
    "            self.train.to_csv(f\"{self.train_file_path}.csv\", index=index)\n",
    "            self.test.to_csv(f\"{self.test_file_path}.csv\", index=index)\n",
    "        \n",
    "        return self\n",
    "    \n",
    "    def __add_noise(self, series, noise_level):\n",
    "        return series * (1 + noise_level * np.random.randn(len(series)))\n",
    "\n",
    "    def __analyzer_nlp(self, text):\n",
    "        stop_words = ['i', 'a', 'an', 'the', 'to', 'and', 'or', 'if', 'is', 'are', 'am', 'it', 'this', 'that', 'of', 'from', 'in', 'on']\n",
    "        text = text.lower()\n",
    "        text = text.replace('\\n', '')\n",
    "        text = text.replace('\\t', '')\n",
    "        text = re.sub(re.compile(r'[!-\\/:-@[-`{-~]'), ' ', text)\n",
    "        text = text.split(' ')\n",
    "\n",
    "        words = []\n",
    "        for word in text:\n",
    "            if (re.compile(r'^.*[0-9]+.*$').fullmatch(word) is not None):\n",
    "                continue\n",
    "            if word in stop_words:\n",
    "                continue\n",
    "            if len(word) < 2:\n",
    "                continue\n",
    "            words.append(word)\n",
    "\n",
    "        return words\n",
    "\n",
    "    def __analyzer_cat(self, text):\n",
    "        return text.split(' ')"
   ]
  },
  {
   "cell_type": "code",
   "execution_count": 4,
   "metadata": {},
   "outputs": [],
   "source": [
    "class AutoML():\n",
    "    SEED = 42\n",
    "    EVAL_COLUMN = \"_preds\"\n",
    "    NUMERICS = [\"int16\", \"int32\", \"int64\", \"float16\", \"float32\", \"float64\"]\n",
    "    \n",
    "    def __init__(self, engine):\n",
    "        if not isinstance(engine, FeatureEngineering): raise TypeError\n",
    "        self.engine = engine\n",
    "    \n",
    "    def run(self, scenario):\n",
    "        self.__seed_everything(AutoML.SEED)\n",
    "        self.target = scenario[\"target\"]\n",
    "        self.engine.load_data()\n",
    "        \n",
    "        params = {\n",
    "            'objective': scenario[\"objective\"],\n",
    "            'boosting_type': scenario[\"boosting_type\"], \n",
    "            'metric': scenario[\"metric\"],\n",
    "            'n_jobs': -1,\n",
    "            'seed': AutoML.SEED\n",
    "        }\n",
    "        tuned = self.__hyper_parameter_tuning(params)\n",
    "        params = dict(params, **tuned)\n",
    "        \n",
    "        self.predicts, importance = self.__train(params)\n",
    "        \n",
    "    def greedy_forward_selection(self, base_score, base_path=\"./\"):\n",
    "        self.__seed_everything(AutoML.SEED)\n",
    "        best_score = 0.0\n",
    "        selected = set([])\n",
    "        params = None\n",
    "        scenario = None\n",
    "        del self.engine.train, self.engine.test\n",
    "        with open(f\"{base_path}/param_{base_score}.json\") as f:\n",
    "            params = json.load(f)\n",
    "        with open(f\"{base_path}/scenario_{base_score}.yml\", \"r\") as yml:\n",
    "            scenario = yaml.safe_load(yml)\n",
    "        self.target = scenario[\"target\"]\n",
    "        \n",
    "        train = pd.read_pickle(f\"{base_path}/train_{base_score}.pkl\")\n",
    "        test = pd.read_pickle(f\"{base_path}/test_{base_score}.pkl\")\n",
    "        \n",
    "        train_x = [f for f in train.columns if f not in self.target]\n",
    "        while True:\n",
    "            if len(selected) == len(train_x): break\n",
    "            \n",
    "            scores = []\n",
    "            for col in train_x:\n",
    "                if col not in selected:\n",
    "                    feats = list(selected) + [col]\n",
    "                    self.engine.train = train[list(feats)+[self.target]]\n",
    "                    self.engine.test = test[feats]\n",
    "                    self.predicts, importance = self.__train(params)\n",
    "                    param_with_score = self.__evaluate(params, pd.read_csv(scenario[\"eval_file_path\"]))\n",
    "                    scores.append((col, param_with_score[\"score\"]))\n",
    "            \n",
    "            b_feature, b_score = sorted(scores, key=lambda tpl: tpl[1], reverse=True)[0]\n",
    "            print(f\"b_score: {b_score}\")\n",
    "            print(f\"best_score: {best_score}\")\n",
    "            if b_score > best_score:\n",
    "                selected.add(b_feature)\n",
    "                best_score = b_score\n",
    "                print(f'selected:{b_feature}')\n",
    "                print(f'score:{b_score}')\n",
    "            else:\n",
    "                break\n",
    "        \n",
    "        print(f'selected features: {selected}')\n",
    "        with open(\"selected.pkl\", \"wb\") as fw:\n",
    "            pickle.dump(selected, fw)\n",
    "            \n",
    "    def __do(self, command):\n",
    "        if command == \"fill_numeric_na\":\n",
    "            self.__fill_numeric_na()\n",
    "        if command == \"binning\":\n",
    "            self.__binning()\n",
    "        if command == \"transformation\":\n",
    "            self.__transformation()\n",
    "        if command == \"topic_encoding\":\n",
    "            self.__topic_encoding()\n",
    "        if command == \"umap\":\n",
    "            self.engine.umap_scaler(skip_columns=[self.target])\n",
    "        if command == \"kmean_features\":\n",
    "            self.engine.create_kmean_features(skip_columns=[self.target], seed=AutoML.SEED)\n",
    "        if command == \"min_max_scaling\":\n",
    "            self.engine.min_max_scaling(skip_columns=[self.target])\n",
    "        if command == \"two_by_two\":\n",
    "            self.engine.two_by_two(skip_columns=[self.target])\n",
    "    \n",
    "    def __evaluate(self, params, actuals, metric):\n",
    "        calc_score_param = {\"metric\": metric}\n",
    "        actuals[AutoML.EVAL_COLUMN] = self.predicts\n",
    "        if params[\"objective\"] == \"binary\":\n",
    "            actuals.loc[actuals[AutoML.EVAL_COLUMN]>=0.5, AutoML.EVAL_COLUMN] = 1\n",
    "            actuals.loc[actuals[AutoML.EVAL_COLUMN]<0.5, AutoML.EVAL_COLUMN] = 0\n",
    "            actuals[AutoML.EVAL_COLUMN] = actuals[AutoML.EVAL_COLUMN].astype(\"int\")\n",
    "        \n",
    "        score = self.__calc_score(calc_score_param, actuals[self.target], actuals[AutoML.EVAL_COLUMN])\n",
    "        params[\"score\"] = score\n",
    "        print(f\"Score: {score}\")\n",
    "        return params\n",
    "    \n",
    "    def __transformation(self):\n",
    "        feats = [f for f in self.engine.train.columns if f not in self.target]\n",
    "        num_columns = [col for col in feats if self.engine.train[col].dtype.name in AutoML.NUMERICS]\n",
    "        aggs = [\"min\", \"max\", \"mean\", \"std\"]\n",
    "        for col in feats:\n",
    "            if self.engine.train[col].dtype.name == \"category\":\n",
    "                self.engine.agg_transform(group=[col], agg={f\"{col}\": [\"count\"]})\n",
    "            for c in num_columns:\n",
    "                if c == col: continue\n",
    "                self.engine.agg_transform(group=[col], agg={f\"{c}\": aggs})\n",
    "                for agg in aggs:\n",
    "                    if self.engine.train[self.engine.train[f\"{col}_{c}_{agg}\"].isnull()].shape[0] > 0:\n",
    "                        self.engine.train.drop(columns=[f\"{col}_{c}_{agg}\"], inplace=True)\n",
    "                        self.engine.test.drop(columns=[f\"{col}_{c}_{agg}\"], inplace=True)\n",
    "\n",
    "    def __fill_numeric_na(self):\n",
    "        feats = [f for f in self.engine.train.columns if f not in self.target]\n",
    "        num_columns = [col for col in feats if self.engine.train[col].dtype.name in AutoML.NUMERICS]\n",
    "        cat_columns = [col for col in feats if self.engine.train[col].dtype.name == \"category\"]\n",
    "        groups = []\n",
    "        for c in cat_columns:\n",
    "            if self.engine.train[self.engine.train[c].isnull()].shape[0] == 0:\n",
    "                if self.engine.train.groupby(c).size().shape[0] / self.engine.train.shape[0] < 0.1:\n",
    "                    groups.append(c)\n",
    "        for n in num_columns:\n",
    "            if len(groups) > 0:\n",
    "                self.engine.agg_transform(group=groups, agg={f\"{n}\": [\"mean\"]}, prefix=\"_tmp\")\n",
    "                self.engine.train[n].fillna(self.engine.train[f\"_tmp_{n}_mean\"], inplace=True)\n",
    "                self.engine.test[n].fillna(self.engine.test[f\"_tmp_{n}_mean\"], inplace=True)\n",
    "                self.engine.train.drop(columns=[f\"_tmp_{n}_mean\"], inplace=True)\n",
    "                self.engine.test.drop(columns=[f\"_tmp_{n}_mean\"], inplace=True)\n",
    "\n",
    "    def __binning(self):\n",
    "        feats = [f for f in self.engine.train.columns if f not in self.target]\n",
    "        num_columns = [col for col in feats if self.engine.train[col].dtype.name in AutoML.NUMERICS]\n",
    "        border = self.engine.train.shape[0]\n",
    "        df = pd.concat([self.engine.train, self.engine.test], ignore_index=True)\n",
    "        del self.engine.train, self.engine.test\n",
    "        gc.collect()\n",
    "\n",
    "        for c in num_columns:\n",
    "            if df[c].unique().shape[0] > 100:\n",
    "                df[f\"{c}_bin\"] = pd.cut(df[c], 10, labels=False)\n",
    "        self.engine.train = df.iloc[:border]\n",
    "        self.engine.test = df.iloc[border:]\n",
    "    \n",
    "    def __topic_encoding(self):\n",
    "        self.__create_topic_text()\n",
    "        self.engine.calc_topic_score(topic_text_columns=[\"topic_text\"], num_topics=5)\n",
    "        self.__drop_features([\"topic_text\"])\n",
    "\n",
    "    def __create_topic_text(self):\n",
    "        feats = [f for f in self.engine.train.columns if f not in self.target]\n",
    "        num_columns = [col for col in feats if self.engine.train[col].dtype.name in AutoML.NUMERICS]\n",
    "        border = self.engine.train.shape[0]\n",
    "        df = pd.concat([self.engine.train, self.engine.test], ignore_index=True)\n",
    "        del self.engine.train, self.engine.test\n",
    "        gc.collect()\n",
    "        \n",
    "        df[\"topic_text\"] = \"\"\n",
    "        for c in num_columns:\n",
    "            df[\"topic_text\"] = df[\"topic_text\"].astype(str) + \" \" + df[c].astype(str)\n",
    "\n",
    "        self.engine.train = df.iloc[:border]\n",
    "        self.engine.test = df.iloc[border:]\n",
    "    \n",
    "    def __set_column_type(self):\n",
    "        feats = [f for f in self.engine.train.columns if f not in self.target]\n",
    "        for col in feats:\n",
    "            col_type = self.engine.train[col].dtypes\n",
    "            if self.engine.train[col].unique().shape[0] < 20:\n",
    "                self.engine.train[col] = self.engine.train[col].astype(\"category\")\n",
    "                self.engine.test[col] = self.engine.test[col].astype(\"category\")\n",
    "\n",
    "    def __drop_features(self, cols):\n",
    "        feats = [f for f in self.engine.train.columns if f in cols]\n",
    "        self.engine.train.drop(columns=feats, inplace=True)\n",
    "        self.engine.test.drop(columns=feats, inplace=True)\n",
    "    \n",
    "    def __feature_selection(self, cols):\n",
    "        self.engine.train = self.engine.train.loc[:, list(cols)+[self.target]]\n",
    "        self.engine.test = self.engine.test.loc[:, cols]\n",
    "    \n",
    "    def __hyper_parameter_tuning(self, params):\n",
    "        train, valid = model_selection.train_test_split(self.engine.train, test_size=0.33, random_state=AutoML.SEED, shuffle=True)\n",
    "        feats = list(range(0, 38))\n",
    "        \n",
    "        lgb_train = tuna.Dataset(train[feats], label=train[self.target].values)\n",
    "        lgb_valid = tuna.Dataset(valid[feats], label=valid[self.target].values)\n",
    "        best_params, tuning_history = dict(), list()\n",
    "\n",
    "        model = tuna.train(\n",
    "                        params,\n",
    "                        lgb_train,\n",
    "                        valid_sets=[lgb_train, lgb_valid],\n",
    "                        valid_names=['train', 'valid'],\n",
    "                        num_boost_round=1000, \n",
    "                        early_stopping_rounds=100,\n",
    "                        verbose_eval=100,\n",
    "                        best_params=best_params,\n",
    "                        tuning_history=tuning_history\n",
    "                        )\n",
    "\n",
    "        return best_params\n",
    "    \n",
    "    def __adversarial_validation(self, num_folds=5):\n",
    "        folds = KFold(n_splits=num_folds, shuffle=True, random_state=AutoML.SEED)\n",
    "        feats = [f for f in self.engine.train.columns if f not in self.target]\n",
    "        train = self.engine.train[feats]\n",
    "        test = self.engine.test[feats]\n",
    "        train[self.target] = 0\n",
    "        test[self.target] = 1\n",
    "        \n",
    "        df = pd.concat([train, test], ignore_index=True)\n",
    "        del train, test\n",
    "        gc.collect()\n",
    "        \n",
    "        oof_preds = np.zeros(df.shape[0])\n",
    "        feature_importance_df = pd.DataFrame()\n",
    "\n",
    "        scores = []\n",
    "        for n_fold, (train_idx, valid_idx) in enumerate(folds.split(df[feats], df[self.target])):\n",
    "            train_x, train_y = df[feats].iloc[train_idx], df[self.target].iloc[train_idx]\n",
    "            valid_x, valid_y = df[feats].iloc[valid_idx], df[self.target].iloc[valid_idx]\n",
    "\n",
    "            lgb_train = lgb.Dataset(train_x,\n",
    "                                    label=train_y,\n",
    "                                    free_raw_data=False)\n",
    "            lgb_valid = lgb.Dataset(valid_x,\n",
    "                                   label=valid_y,\n",
    "                                   free_raw_data=False)\n",
    "            params = {'num_leaves': 50,\n",
    "                     'min_data_in_leaf': 30, \n",
    "                     'objective':'binary',\n",
    "                     'max_depth': 5,\n",
    "                     'learning_rate': 0.1,\n",
    "                     \"min_child_samples\": 20,\n",
    "                     \"boosting\": \"gbdt\",\n",
    "                     \"feature_fraction\": 0.9,\n",
    "                     \"bagging_freq\": 1,\n",
    "                     \"bagging_fraction\": 0.9 ,\n",
    "                     \"bagging_seed\": 44,\n",
    "                     \"metric\": 'auc',\n",
    "                     \"verbosity\": -1}\n",
    "\n",
    "            model = lgb.train(\n",
    "                        params,\n",
    "                        lgb_train,\n",
    "                        valid_sets=[lgb_train, lgb_valid],\n",
    "                        valid_names=['train', 'valid'],\n",
    "                        num_boost_round=1000, \n",
    "                        early_stopping_rounds=100,\n",
    "                        verbose_eval=100\n",
    "                        )\n",
    "\n",
    "            oof_preds[valid_idx] = model.predict(valid_x, num_iteration=model.best_iteration)\n",
    "\n",
    "            fold_importance_df = pd.DataFrame()\n",
    "            fold_importance_df[\"feature\"] = feats\n",
    "            fold_importance_df[\"importance\"] = np.log1p(model.feature_importance(importance_type='gain', iteration=model.best_iteration))\n",
    "            fold_importance_df[\"fold\"] = n_fold + 1\n",
    "            feature_importance_df = pd.concat([feature_importance_df, fold_importance_df], axis=0)\n",
    "            scores.append(self.__calc_score(params, valid_y, oof_preds[valid_idx]))\n",
    "\n",
    "        self.__display_importances(feature_importance_df)\n",
    "        \n",
    "        return sum(scores)/len(scores), feature_importance_df\n",
    "        \n",
    "    def __train(self, params, num_folds=5, stratified=False):\n",
    "        if stratified:\n",
    "            folds = StratifiedKFold(n_splits=num_folds, shuffle=True, random_state=AutoML.SEED)\n",
    "        else:\n",
    "            folds = KFold(n_splits=num_folds, shuffle=True, random_state=AutoML.SEED)\n",
    "\n",
    "        feats = list(range(0, 38))\n",
    "        oof_preds = np.zeros(self.engine.train.shape[0])\n",
    "        sub_preds = np.zeros(self.engine.test.shape[0])\n",
    "        feature_importance_df = pd.DataFrame()\n",
    "\n",
    "        scores = []\n",
    "        for n_fold, (train_idx, valid_idx) in enumerate(folds.split(self.engine.train[feats], self.engine.train[self.target])):\n",
    "            train_x, train_y = self.engine.train[feats].iloc[train_idx], self.engine.train[self.target].iloc[train_idx]\n",
    "            valid_x, valid_y = self.engine.train[feats].iloc[valid_idx], self.engine.train[self.target].iloc[valid_idx]\n",
    "\n",
    "            lgb_train = lgb.Dataset(train_x,\n",
    "                                    label=train_y,\n",
    "                                    free_raw_data=False)\n",
    "            lgb_valid = lgb.Dataset(valid_x,\n",
    "                                   label=valid_y,\n",
    "                                   free_raw_data=False)\n",
    "            model = lgb.train(\n",
    "                            params,\n",
    "                            lgb_train,\n",
    "                            valid_sets=[lgb_train, lgb_valid],\n",
    "                            valid_names=['train', 'valid'],\n",
    "                            num_boost_round=1000, \n",
    "                            early_stopping_rounds=100,\n",
    "                            verbose_eval=100\n",
    "                            )\n",
    "\n",
    "            oof_preds[valid_idx] = model.predict(valid_x, num_iteration=model.best_iteration)\n",
    "            sub_preds += model.predict(self.engine.test[feats], num_iteration=model.best_iteration) / folds.n_splits\n",
    "\n",
    "            fold_importance_df = pd.DataFrame()\n",
    "            fold_importance_df[\"feature\"] = feats\n",
    "            fold_importance_df[\"importance\"] = np.log1p(model.feature_importance(importance_type='gain', iteration=model.best_iteration))\n",
    "            fold_importance_df[\"fold\"] = n_fold + 1\n",
    "            feature_importance_df = pd.concat([feature_importance_df, fold_importance_df], axis=0)\n",
    "            scores.append(self.__calc_score(params, valid_y, oof_preds[valid_idx]))\n",
    "\n",
    "        print('CV : %.6f' % (sum(scores)/len(scores)))\n",
    "        self.__display_importances(feature_importance_df)\n",
    "\n",
    "        return sub_preds, feature_importance_df\n",
    "    \n",
    "    def __display_importances(self, feature_importance_df_):\n",
    "        all_cols = feature_importance_df_[[\"feature\", \"importance\"]].groupby(\"feature\").mean().sort_values(by=\"importance\", ascending=False).index\n",
    "        feature_importance_df_.loc[feature_importance_df_.feature.isin(all_cols)].to_csv(\"feature_importance.csv\", index=False)\n",
    "\n",
    "        cols = feature_importance_df_[[\"feature\", \"importance\"]].groupby(\"feature\").mean().sort_values(by=\"importance\", ascending=False)[:40].index\n",
    "        best_features = feature_importance_df_.loc[feature_importance_df_.feature.isin(cols)]\n",
    "\n",
    "        plt.figure(figsize=(8, 10))\n",
    "        sns.barplot(x=\"importance\", y=\"feature\", data=best_features.sort_values(by=\"importance\", ascending=False))\n",
    "        plt.title('LightGBM Features (avg over folds)')\n",
    "        plt.tight_layout()\n",
    "        plt.savefig('lgbm_importances.png')\n",
    "    \n",
    "    def __calc_score(self, params, actuals, preds):\n",
    "        if params[\"metric\"] == \"rmse\":\n",
    "            return np.sqrt(mean_squared_error(actuals, preds))\n",
    "        if params[\"metric\"] in [\"cross_entropy\", \"binary_logloss\"]:\n",
    "            return log_loss(actuals, preds)\n",
    "        if params[\"metric\"] == \"auc\":\n",
    "            return roc_auc_score(actuals, preds)\n",
    "        if params[\"metric\"] == \"f1\":\n",
    "            return f1_score(actuals, preds)\n",
    "\n",
    "    def __seed_everything(self, seed):\n",
    "        random.seed(seed)\n",
    "        os.environ['PYTHONHASHSEED'] = str(seed)\n",
    "        np.random.seed(seed)"
   ]
  },
  {
   "cell_type": "code",
   "execution_count": 5,
   "metadata": {},
   "outputs": [],
   "source": [
    "class Sample(FeatureEngineering):\n",
    "    def load_data(self):\n",
    "        self.train = pd.read_pickle(\"./structure_train_01.pkl\")\n",
    "        self.test = pd.read_pickle(\"./structure_train_01.pkl\")\n",
    "        \n",
    "        self.train.columns = range(0, 38)\n",
    "        self.test.columns = range(0, 38)\n",
    "        df = pd.read_pickle(\"./structure_df_01.pkl\")\n",
    "        self.train[\"k_class\"] = df[\"k_class\"]\n",
    "        \n",
    "        return self\n",
    "    \n",
    "    def create_features(self):\n",
    "        return self\n",
    "    \n",
    "    def create_topic_text(self):\n",
    "        return self"
   ]
  },
  {
   "cell_type": "code",
   "execution_count": 6,
   "metadata": {},
   "outputs": [],
   "source": [
    "with open(\"../input/building_structure/scenario.yml\", \"r\") as yml:\n",
    "    scenario = yaml.safe_load(yml)"
   ]
  },
  {
   "cell_type": "code",
   "execution_count": 7,
   "metadata": {},
   "outputs": [],
   "source": [
    "ml = AutoML(engine=Sample())"
   ]
  },
  {
   "cell_type": "code",
   "execution_count": 8,
   "metadata": {},
   "outputs": [
    {
     "name": "stderr",
     "output_type": "stream",
     "text": [
      "tune_feature_fraction, val_score: inf:   0%|                                                     | 0/7 [00:00<?, ?it/s]"
     ]
    },
    {
     "name": "stdout",
     "output_type": "stream",
     "text": [
      "Training until validation scores don't improve for 100 rounds\n",
      "[100]\ttrain's rmse: 0.840828\tvalid's rmse: 1.43749\n",
      "[200]\ttrain's rmse: 0.643549\tvalid's rmse: 1.3875\n",
      "[300]\ttrain's rmse: 0.541128\tvalid's rmse: 1.36481\n",
      "[400]\ttrain's rmse: 0.469407\tvalid's rmse: 1.34843\n",
      "[500]\ttrain's rmse: 0.415724\tvalid's rmse: 1.34937\n",
      "Early stopping, best iteration is:\n",
      "[468]\ttrain's rmse: 0.431727\tvalid's rmse: 1.34311\n"
     ]
    },
    {
     "name": "stderr",
     "output_type": "stream",
     "text": [
      "tune_feature_fraction, val_score: 1.343111:  14%|#####7                                  | 1/7 [00:01<00:08,  1.37s/it][I 2020-03-24 17:44:47,285] Finished trial#0 resulted in value: 1.3431114711501821. Current best value is 1.3431114711501821 with parameters: {'feature_fraction': 0.4}.\n",
      "tune_feature_fraction, val_score: 1.343111:  14%|#####7                                  | 1/7 [00:01<00:08,  1.37s/it]"
     ]
    },
    {
     "name": "stdout",
     "output_type": "stream",
     "text": [
      "Training until validation scores don't improve for 100 rounds\n",
      "[100]\ttrain's rmse: 0.78625\tvalid's rmse: 1.38709\n",
      "[200]\ttrain's rmse: 0.584155\tvalid's rmse: 1.34524\n",
      "[300]\ttrain's rmse: 0.479024\tvalid's rmse: 1.32631\n",
      "[400]\ttrain's rmse: 0.416154\tvalid's rmse: 1.32233\n",
      "[500]\ttrain's rmse: 0.370263\tvalid's rmse: 1.32223\n",
      "Early stopping, best iteration is:\n",
      "[483]\ttrain's rmse: 0.377563\tvalid's rmse: 1.31891\n"
     ]
    },
    {
     "name": "stderr",
     "output_type": "stream",
     "text": [
      "tune_feature_fraction, val_score: 1.318905:  29%|###########4                            | 2/7 [00:02<00:05,  1.20s/it][I 2020-03-24 17:44:48,083] Finished trial#1 resulted in value: 1.3189051494574913. Current best value is 1.3189051494574913 with parameters: {'feature_fraction': 0.5}.\n",
      "tune_feature_fraction, val_score: 1.318905:  29%|###########4                            | 2/7 [00:02<00:05,  1.20s/it]"
     ]
    },
    {
     "name": "stdout",
     "output_type": "stream",
     "text": [
      "Training until validation scores don't improve for 100 rounds\n",
      "[100]\ttrain's rmse: 0.744827\tvalid's rmse: 1.34727\n",
      "[200]\ttrain's rmse: 0.54219\tvalid's rmse: 1.30212\n",
      "[300]\ttrain's rmse: 0.438215\tvalid's rmse: 1.29107\n",
      "[400]\ttrain's rmse: 0.37924\tvalid's rmse: 1.2868\n",
      "[500]\ttrain's rmse: 0.336097\tvalid's rmse: 1.29018\n",
      "Early stopping, best iteration is:\n",
      "[443]\ttrain's rmse: 0.358718\tvalid's rmse: 1.28487\n"
     ]
    },
    {
     "name": "stderr",
     "output_type": "stream",
     "text": [
      "tune_feature_fraction, val_score: 1.284872:  43%|#################1                      | 3/7 [00:02<00:04,  1.01s/it][I 2020-03-24 17:44:48,664] Finished trial#2 resulted in value: 1.2848723407574885. Current best value is 1.2848723407574885 with parameters: {'feature_fraction': 0.6}.\n",
      "tune_feature_fraction, val_score: 1.284872:  43%|#################1                      | 3/7 [00:02<00:04,  1.01s/it]"
     ]
    },
    {
     "name": "stdout",
     "output_type": "stream",
     "text": [
      "Training until validation scores don't improve for 100 rounds\n",
      "[100]\ttrain's rmse: 0.717645\tvalid's rmse: 1.38432\n",
      "[200]\ttrain's rmse: 0.517392\tvalid's rmse: 1.31985\n",
      "[300]\ttrain's rmse: 0.41676\tvalid's rmse: 1.2951\n",
      "[400]\ttrain's rmse: 0.355695\tvalid's rmse: 1.28678\n",
      "[500]\ttrain's rmse: 0.314579\tvalid's rmse: 1.2844\n",
      "[600]\ttrain's rmse: 0.28891\tvalid's rmse: 1.28235\n",
      "Early stopping, best iteration is:\n",
      "[592]\ttrain's rmse: 0.290248\tvalid's rmse: 1.28139\n"
     ]
    },
    {
     "name": "stderr",
     "output_type": "stream",
     "text": [
      "tune_feature_fraction, val_score: 1.281388:  57%|######################8                 | 4/7 [00:03<00:03,  1.04s/it][I 2020-03-24 17:44:49,780] Finished trial#3 resulted in value: 1.2813883921028735. Current best value is 1.2813883921028735 with parameters: {'feature_fraction': 0.7}.\n",
      "tune_feature_fraction, val_score: 1.281388:  57%|######################8                 | 4/7 [00:03<00:03,  1.04s/it]"
     ]
    },
    {
     "name": "stdout",
     "output_type": "stream",
     "text": [
      "Training until validation scores don't improve for 100 rounds\n",
      "[100]\ttrain's rmse: 0.69527\tvalid's rmse: 1.4052\n",
      "[200]\ttrain's rmse: 0.501272\tvalid's rmse: 1.34085\n",
      "[300]\ttrain's rmse: 0.397727\tvalid's rmse: 1.30075\n",
      "[400]\ttrain's rmse: 0.33748\tvalid's rmse: 1.29081\n",
      "[500]\ttrain's rmse: 0.299897\tvalid's rmse: 1.28889\n",
      "[600]\ttrain's rmse: 0.275037\tvalid's rmse: 1.28817\n",
      "[700]\ttrain's rmse: 0.257388\tvalid's rmse: 1.28839\n",
      "Early stopping, best iteration is:\n",
      "[663]\ttrain's rmse: 0.263593\tvalid's rmse: 1.28716\n"
     ]
    },
    {
     "name": "stderr",
     "output_type": "stream",
     "text": [
      "tune_feature_fraction, val_score: 1.281388:  71%|############################5           | 5/7 [00:04<00:01,  1.02it/s][I 2020-03-24 17:44:50,604] Finished trial#4 resulted in value: 1.2871623062138486. Current best value is 1.2813883921028735 with parameters: {'feature_fraction': 0.7}.\n",
      "tune_feature_fraction, val_score: 1.281388:  71%|############################5           | 5/7 [00:04<00:01,  1.02it/s]"
     ]
    },
    {
     "name": "stdout",
     "output_type": "stream",
     "text": [
      "Training until validation scores don't improve for 100 rounds\n",
      "[100]\ttrain's rmse: 0.671021\tvalid's rmse: 1.36212\n",
      "[200]\ttrain's rmse: 0.476094\tvalid's rmse: 1.31703\n",
      "[300]\ttrain's rmse: 0.376739\tvalid's rmse: 1.2892\n",
      "[400]\ttrain's rmse: 0.319017\tvalid's rmse: 1.28408\n",
      "Early stopping, best iteration is:\n",
      "[375]\ttrain's rmse: 0.330303\tvalid's rmse: 1.28193\n"
     ]
    },
    {
     "name": "stderr",
     "output_type": "stream",
     "text": [
      "tune_feature_fraction, val_score: 1.281388:  86%|##################################2     | 6/7 [00:05<00:00,  1.20it/s][I 2020-03-24 17:44:51,097] Finished trial#5 resulted in value: 1.2819345942423312. Current best value is 1.2813883921028735 with parameters: {'feature_fraction': 0.7}.\n",
      "tune_feature_fraction, val_score: 1.281388:  86%|##################################2     | 6/7 [00:05<00:00,  1.20it/s]"
     ]
    },
    {
     "name": "stdout",
     "output_type": "stream",
     "text": [
      "Training until validation scores don't improve for 100 rounds\n",
      "[100]\ttrain's rmse: 0.67137\tvalid's rmse: 1.32282\n",
      "[200]\ttrain's rmse: 0.477038\tvalid's rmse: 1.30453\n",
      "[300]\ttrain's rmse: 0.377769\tvalid's rmse: 1.29169\n",
      "[400]\ttrain's rmse: 0.320991\tvalid's rmse: 1.29364\n",
      "Early stopping, best iteration is:\n",
      "[328]\ttrain's rmse: 0.358083\tvalid's rmse: 1.28973\n"
     ]
    },
    {
     "name": "stderr",
     "output_type": "stream",
     "text": [
      "tune_feature_fraction, val_score: 1.281388: 100%|########################################| 7/7 [00:05<00:00,  1.35it/s][I 2020-03-24 17:44:51,630] Finished trial#6 resulted in value: 1.2897251083357473. Current best value is 1.2813883921028735 with parameters: {'feature_fraction': 0.7}.\n",
      "tune_feature_fraction, val_score: 1.281388: 100%|########################################| 7/7 [00:05<00:00,  1.21it/s]\n",
      "tune_num_leaves, val_score: 1.281388:   0%|                                                     | 0/20 [00:00<?, ?it/s]"
     ]
    },
    {
     "name": "stdout",
     "output_type": "stream",
     "text": [
      "Training until validation scores don't improve for 100 rounds\n",
      "[100]\ttrain's rmse: 0.716005\tvalid's rmse: 1.35427\n",
      "[200]\ttrain's rmse: 0.50968\tvalid's rmse: 1.31361\n",
      "[300]\ttrain's rmse: 0.40913\tvalid's rmse: 1.29267\n",
      "[400]\ttrain's rmse: 0.34942\tvalid's rmse: 1.27951\n",
      "[500]\ttrain's rmse: 0.308682\tvalid's rmse: 1.27782\n",
      "Early stopping, best iteration is:\n",
      "[467]\ttrain's rmse: 0.319666\tvalid's rmse: 1.27569\n"
     ]
    },
    {
     "name": "stderr",
     "output_type": "stream",
     "text": [
      "tune_num_leaves, val_score: 1.275692:   5%|##2                                          | 1/20 [00:00<00:08,  2.15it/s][I 2020-03-24 17:44:52,230] Finished trial#0 resulted in value: 1.2756915029917772. Current best value is 1.2756915029917772 with parameters: {'num_leaves': 22}.\n",
      "tune_num_leaves, val_score: 1.275692:   5%|##2                                          | 1/20 [00:00<00:08,  2.15it/s]"
     ]
    },
    {
     "name": "stdout",
     "output_type": "stream",
     "text": [
      "Training until validation scores don't improve for 100 rounds\n",
      "[100]\ttrain's rmse: 0.717645\tvalid's rmse: 1.38432\n",
      "[200]\ttrain's rmse: 0.517392\tvalid's rmse: 1.31985\n",
      "[300]\ttrain's rmse: 0.41676\tvalid's rmse: 1.2951\n",
      "[400]\ttrain's rmse: 0.355695\tvalid's rmse: 1.28678\n",
      "[500]\ttrain's rmse: 0.314579\tvalid's rmse: 1.2844\n",
      "[600]\ttrain's rmse: 0.28891\tvalid's rmse: 1.28235\n",
      "Early stopping, best iteration is:\n",
      "[592]\ttrain's rmse: 0.290248\tvalid's rmse: 1.28139\n"
     ]
    },
    {
     "name": "stderr",
     "output_type": "stream",
     "text": [
      "tune_num_leaves, val_score: 1.275692:  10%|####5                                        | 2/20 [00:01<00:09,  1.80it/s][I 2020-03-24 17:44:52,997] Finished trial#1 resulted in value: 1.2813883921028735. Current best value is 1.2756915029917772 with parameters: {'num_leaves': 22}.\n",
      "tune_num_leaves, val_score: 1.275692:  10%|####5                                        | 2/20 [00:01<00:09,  1.80it/s]"
     ]
    },
    {
     "name": "stdout",
     "output_type": "stream",
     "text": [
      "Training until validation scores don't improve for 100 rounds\n",
      "[100]\ttrain's rmse: 0.717645\tvalid's rmse: 1.38432\n",
      "[200]\ttrain's rmse: 0.517392\tvalid's rmse: 1.31985\n",
      "[300]\ttrain's rmse: 0.41676\tvalid's rmse: 1.2951\n",
      "[400]\ttrain's rmse: 0.355695\tvalid's rmse: 1.28678\n",
      "[500]\ttrain's rmse: 0.314579\tvalid's rmse: 1.2844\n",
      "[600]\ttrain's rmse: 0.28891\tvalid's rmse: 1.28235\n",
      "Early stopping, best iteration is:\n",
      "[592]\ttrain's rmse: 0.290248\tvalid's rmse: 1.28139\n"
     ]
    },
    {
     "name": "stderr",
     "output_type": "stream",
     "text": [
      "tune_num_leaves, val_score: 1.275692:  15%|######7                                      | 3/20 [00:02<00:10,  1.60it/s][I 2020-03-24 17:44:53,785] Finished trial#2 resulted in value: 1.2813883921028735. Current best value is 1.2756915029917772 with parameters: {'num_leaves': 22}.\n",
      "tune_num_leaves, val_score: 1.275692:  15%|######7                                      | 3/20 [00:02<00:10,  1.60it/s]"
     ]
    },
    {
     "name": "stdout",
     "output_type": "stream",
     "text": [
      "Training until validation scores don't improve for 100 rounds\n",
      "[100]\ttrain's rmse: 0.717645\tvalid's rmse: 1.38432\n",
      "[200]\ttrain's rmse: 0.517392\tvalid's rmse: 1.31985\n",
      "[300]\ttrain's rmse: 0.41676\tvalid's rmse: 1.2951\n",
      "[400]\ttrain's rmse: 0.355695\tvalid's rmse: 1.28678\n",
      "[500]\ttrain's rmse: 0.314579\tvalid's rmse: 1.2844\n",
      "[600]\ttrain's rmse: 0.28891\tvalid's rmse: 1.28235\n",
      "Early stopping, best iteration is:\n",
      "[592]\ttrain's rmse: 0.290248\tvalid's rmse: 1.28139\n"
     ]
    },
    {
     "name": "stderr",
     "output_type": "stream",
     "text": [
      "tune_num_leaves, val_score: 1.275692:  20%|#########                                    | 4/20 [00:02<00:10,  1.55it/s][I 2020-03-24 17:44:54,480] Finished trial#3 resulted in value: 1.2813883921028735. Current best value is 1.2756915029917772 with parameters: {'num_leaves': 22}.\n",
      "tune_num_leaves, val_score: 1.275692:  20%|#########                                    | 4/20 [00:02<00:10,  1.55it/s]"
     ]
    },
    {
     "name": "stdout",
     "output_type": "stream",
     "text": [
      "Training until validation scores don't improve for 100 rounds\n",
      "[100]\ttrain's rmse: 0.717645\tvalid's rmse: 1.38432\n",
      "[200]\ttrain's rmse: 0.517392\tvalid's rmse: 1.31985\n",
      "[300]\ttrain's rmse: 0.41676\tvalid's rmse: 1.2951\n",
      "[400]\ttrain's rmse: 0.355695\tvalid's rmse: 1.28678\n",
      "[500]\ttrain's rmse: 0.314579\tvalid's rmse: 1.2844\n",
      "[600]\ttrain's rmse: 0.28891\tvalid's rmse: 1.28235\n",
      "Early stopping, best iteration is:\n",
      "[592]\ttrain's rmse: 0.290248\tvalid's rmse: 1.28139\n"
     ]
    },
    {
     "name": "stderr",
     "output_type": "stream",
     "text": [
      "tune_num_leaves, val_score: 1.275692:  25%|###########2                                 | 5/20 [00:03<00:10,  1.43it/s][I 2020-03-24 17:44:55,297] Finished trial#4 resulted in value: 1.2813883921028735. Current best value is 1.2756915029917772 with parameters: {'num_leaves': 22}.\n",
      "tune_num_leaves, val_score: 1.275692:  25%|###########2                                 | 5/20 [00:03<00:10,  1.43it/s]"
     ]
    },
    {
     "name": "stdout",
     "output_type": "stream",
     "text": [
      "Training until validation scores don't improve for 100 rounds\n",
      "[100]\ttrain's rmse: 0.717645\tvalid's rmse: 1.38432\n",
      "[200]\ttrain's rmse: 0.517392\tvalid's rmse: 1.31985\n",
      "[300]\ttrain's rmse: 0.41676\tvalid's rmse: 1.2951\n",
      "[400]\ttrain's rmse: 0.355695\tvalid's rmse: 1.28678\n",
      "[500]\ttrain's rmse: 0.314579\tvalid's rmse: 1.2844\n",
      "[600]\ttrain's rmse: 0.28891\tvalid's rmse: 1.28235\n",
      "Early stopping, best iteration is:\n",
      "[592]\ttrain's rmse: 0.290248\tvalid's rmse: 1.28139\n"
     ]
    },
    {
     "name": "stderr",
     "output_type": "stream",
     "text": [
      "tune_num_leaves, val_score: 1.275692:  30%|#############5                               | 6/20 [00:04<00:09,  1.40it/s][I 2020-03-24 17:44:56,053] Finished trial#5 resulted in value: 1.2813883921028735. Current best value is 1.2756915029917772 with parameters: {'num_leaves': 22}.\n",
      "tune_num_leaves, val_score: 1.275692:  30%|#############5                               | 6/20 [00:04<00:09,  1.40it/s]"
     ]
    },
    {
     "name": "stdout",
     "output_type": "stream",
     "text": [
      "Training until validation scores don't improve for 100 rounds\n",
      "[100]\ttrain's rmse: 0.717645\tvalid's rmse: 1.38432\n",
      "[200]\ttrain's rmse: 0.517392\tvalid's rmse: 1.31985\n",
      "[300]\ttrain's rmse: 0.41676\tvalid's rmse: 1.2951\n",
      "[400]\ttrain's rmse: 0.355695\tvalid's rmse: 1.28678\n",
      "[500]\ttrain's rmse: 0.314579\tvalid's rmse: 1.2844\n",
      "[600]\ttrain's rmse: 0.28891\tvalid's rmse: 1.28235\n",
      "Early stopping, best iteration is:\n",
      "[592]\ttrain's rmse: 0.290248\tvalid's rmse: 1.28139\n"
     ]
    },
    {
     "name": "stderr",
     "output_type": "stream",
     "text": [
      "tune_num_leaves, val_score: 1.275692:  35%|###############7                             | 7/20 [00:05<00:09,  1.39it/s][I 2020-03-24 17:44:56,788] Finished trial#6 resulted in value: 1.2813883921028735. Current best value is 1.2756915029917772 with parameters: {'num_leaves': 22}.\n",
      "tune_num_leaves, val_score: 1.275692:  35%|###############7                             | 7/20 [00:05<00:09,  1.39it/s]"
     ]
    },
    {
     "name": "stdout",
     "output_type": "stream",
     "text": [
      "Training until validation scores don't improve for 100 rounds\n",
      "[100]\ttrain's rmse: 0.717645\tvalid's rmse: 1.38432\n",
      "[200]\ttrain's rmse: 0.517392\tvalid's rmse: 1.31985\n",
      "[300]\ttrain's rmse: 0.41676\tvalid's rmse: 1.2951\n",
      "[400]\ttrain's rmse: 0.355695\tvalid's rmse: 1.28678\n",
      "[500]\ttrain's rmse: 0.314579\tvalid's rmse: 1.2844\n",
      "[600]\ttrain's rmse: 0.28891\tvalid's rmse: 1.28235\n",
      "Early stopping, best iteration is:\n",
      "[592]\ttrain's rmse: 0.290248\tvalid's rmse: 1.28139\n"
     ]
    },
    {
     "name": "stderr",
     "output_type": "stream",
     "text": [
      "tune_num_leaves, val_score: 1.275692:  40%|##################                           | 8/20 [00:05<00:08,  1.40it/s][I 2020-03-24 17:44:57,499] Finished trial#7 resulted in value: 1.2813883921028735. Current best value is 1.2756915029917772 with parameters: {'num_leaves': 22}.\n",
      "tune_num_leaves, val_score: 1.275692:  40%|##################                           | 8/20 [00:05<00:08,  1.40it/s]"
     ]
    },
    {
     "name": "stdout",
     "output_type": "stream",
     "text": [
      "Training until validation scores don't improve for 100 rounds\n",
      "[100]\ttrain's rmse: 0.717645\tvalid's rmse: 1.38432\n",
      "[200]\ttrain's rmse: 0.517392\tvalid's rmse: 1.31985\n",
      "[300]\ttrain's rmse: 0.41676\tvalid's rmse: 1.2951\n",
      "[400]\ttrain's rmse: 0.355695\tvalid's rmse: 1.28678\n",
      "[500]\ttrain's rmse: 0.314579\tvalid's rmse: 1.2844\n",
      "[600]\ttrain's rmse: 0.28891\tvalid's rmse: 1.28235\n",
      "Early stopping, best iteration is:\n",
      "[592]\ttrain's rmse: 0.290248\tvalid's rmse: 1.28139\n"
     ]
    },
    {
     "name": "stderr",
     "output_type": "stream",
     "text": [
      "tune_num_leaves, val_score: 1.275692:  45%|####################2                        | 9/20 [00:06<00:07,  1.40it/s][I 2020-03-24 17:44:58,202] Finished trial#8 resulted in value: 1.2813883921028735. Current best value is 1.2756915029917772 with parameters: {'num_leaves': 22}.\n",
      "tune_num_leaves, val_score: 1.275692:  45%|####################2                        | 9/20 [00:06<00:07,  1.40it/s]"
     ]
    },
    {
     "name": "stdout",
     "output_type": "stream",
     "text": [
      "Training until validation scores don't improve for 100 rounds\n",
      "[100]\ttrain's rmse: 0.717645\tvalid's rmse: 1.38432\n",
      "[200]\ttrain's rmse: 0.517392\tvalid's rmse: 1.31985\n",
      "[300]\ttrain's rmse: 0.41676\tvalid's rmse: 1.2951\n",
      "[400]\ttrain's rmse: 0.355695\tvalid's rmse: 1.28678\n",
      "[500]\ttrain's rmse: 0.314579\tvalid's rmse: 1.2844\n",
      "[600]\ttrain's rmse: 0.28891\tvalid's rmse: 1.28235\n",
      "Early stopping, best iteration is:\n",
      "[592]\ttrain's rmse: 0.290248\tvalid's rmse: 1.28139\n"
     ]
    },
    {
     "name": "stderr",
     "output_type": "stream",
     "text": [
      "tune_num_leaves, val_score: 1.275692:  50%|######################                      | 10/20 [00:07<00:07,  1.42it/s][I 2020-03-24 17:44:58,892] Finished trial#9 resulted in value: 1.2813883921028735. Current best value is 1.2756915029917772 with parameters: {'num_leaves': 22}.\n",
      "tune_num_leaves, val_score: 1.275692:  50%|######################                      | 10/20 [00:07<00:07,  1.42it/s]"
     ]
    },
    {
     "name": "stdout",
     "output_type": "stream",
     "text": [
      "Training until validation scores don't improve for 100 rounds\n",
      "[100]\ttrain's rmse: 0.743301\tvalid's rmse: 1.35698\n",
      "[200]\ttrain's rmse: 0.549071\tvalid's rmse: 1.29502\n",
      "[300]\ttrain's rmse: 0.449645\tvalid's rmse: 1.27246\n",
      "[400]\ttrain's rmse: 0.387051\tvalid's rmse: 1.26075\n",
      "[500]\ttrain's rmse: 0.343601\tvalid's rmse: 1.26014\n",
      "[600]\ttrain's rmse: 0.311697\tvalid's rmse: 1.25852\n",
      "[700]\ttrain's rmse: 0.290538\tvalid's rmse: 1.25663\n",
      "[800]\ttrain's rmse: 0.27406\tvalid's rmse: 1.25957\n",
      "Early stopping, best iteration is:\n",
      "[726]\ttrain's rmse: 0.285409\tvalid's rmse: 1.25581\n"
     ]
    },
    {
     "name": "stderr",
     "output_type": "stream",
     "text": [
      "tune_num_leaves, val_score: 1.255809:  55%|########################2                   | 11/20 [00:07<00:06,  1.45it/s][I 2020-03-24 17:44:59,539] Finished trial#10 resulted in value: 1.2558092354876678. Current best value is 1.2558092354876678 with parameters: {'num_leaves': 14}.\n",
      "tune_num_leaves, val_score: 1.255809:  55%|########################2                   | 11/20 [00:07<00:06,  1.45it/s]"
     ]
    },
    {
     "name": "stdout",
     "output_type": "stream",
     "text": [
      "Training until validation scores don't improve for 100 rounds\n",
      "[100]\ttrain's rmse: 0.840797\tvalid's rmse: 1.38042\n",
      "[200]\ttrain's rmse: 0.673714\tvalid's rmse: 1.30161\n",
      "[300]\ttrain's rmse: 0.581168\tvalid's rmse: 1.26186\n",
      "[400]\ttrain's rmse: 0.517346\tvalid's rmse: 1.23911\n",
      "[500]\ttrain's rmse: 0.469444\tvalid's rmse: 1.21622\n",
      "[600]\ttrain's rmse: 0.432806\tvalid's rmse: 1.21254\n",
      "[700]\ttrain's rmse: 0.405069\tvalid's rmse: 1.20629\n",
      "Early stopping, best iteration is:\n",
      "[652]\ttrain's rmse: 0.417556\tvalid's rmse: 1.20355\n"
     ]
    },
    {
     "name": "stderr",
     "output_type": "stream",
     "text": [
      "tune_num_leaves, val_score: 1.203549:  60%|##########################4                 | 12/20 [00:08<00:04,  1.61it/s][I 2020-03-24 17:45:00,008] Finished trial#11 resulted in value: 1.2035487929833413. Current best value is 1.2035487929833413 with parameters: {'num_leaves': 8}.\n",
      "tune_num_leaves, val_score: 1.203549:  60%|##########################4                 | 12/20 [00:08<00:04,  1.61it/s]"
     ]
    },
    {
     "name": "stdout",
     "output_type": "stream",
     "text": [
      "Training until validation scores don't improve for 100 rounds\n",
      "[100]\ttrain's rmse: 1.14661\tvalid's rmse: 1.55149\n",
      "[200]\ttrain's rmse: 0.993384\tvalid's rmse: 1.43999\n",
      "[300]\ttrain's rmse: 0.906413\tvalid's rmse: 1.37382\n",
      "[400]\ttrain's rmse: 0.852016\tvalid's rmse: 1.34808\n",
      "[500]\ttrain's rmse: 0.806986\tvalid's rmse: 1.32101\n",
      "[600]\ttrain's rmse: 0.768989\tvalid's rmse: 1.29825\n",
      "[700]\ttrain's rmse: 0.731337\tvalid's rmse: 1.28027\n",
      "[800]\ttrain's rmse: 0.697774\tvalid's rmse: 1.2591\n",
      "[900]\ttrain's rmse: 0.673914\tvalid's rmse: 1.25293\n",
      "[1000]\ttrain's rmse: 0.652759\tvalid's rmse: 1.24478\n",
      "Did not meet early stopping. Best iteration is:\n",
      "[1000]\ttrain's rmse: 0.652759\tvalid's rmse: 1.24478\n"
     ]
    },
    {
     "name": "stderr",
     "output_type": "stream",
     "text": [
      "tune_num_leaves, val_score: 1.203549:  65%|############################6               | 13/20 [00:08<00:04,  1.73it/s][I 2020-03-24 17:45:00,490] Finished trial#12 resulted in value: 1.2447847959206733. Current best value is 1.2035487929833413 with parameters: {'num_leaves': 8}.\n",
      "tune_num_leaves, val_score: 1.203549:  65%|############################6               | 13/20 [00:08<00:04,  1.73it/s]"
     ]
    },
    {
     "name": "stdout",
     "output_type": "stream",
     "text": [
      "Training until validation scores don't improve for 100 rounds\n",
      "[100]\ttrain's rmse: 0.717645\tvalid's rmse: 1.38432\n",
      "[200]\ttrain's rmse: 0.517392\tvalid's rmse: 1.31985\n",
      "[300]\ttrain's rmse: 0.41676\tvalid's rmse: 1.2951\n",
      "[400]\ttrain's rmse: 0.355695\tvalid's rmse: 1.28678\n",
      "[500]\ttrain's rmse: 0.314579\tvalid's rmse: 1.2844\n",
      "[600]\ttrain's rmse: 0.28891\tvalid's rmse: 1.28235\n",
      "Early stopping, best iteration is:\n",
      "[592]\ttrain's rmse: 0.290248\tvalid's rmse: 1.28139\n"
     ]
    },
    {
     "name": "stderr",
     "output_type": "stream",
     "text": [
      "tune_num_leaves, val_score: 1.203549:  70%|##############################8             | 14/20 [00:09<00:03,  1.64it/s][I 2020-03-24 17:45:01,149] Finished trial#13 resulted in value: 1.2813883921028735. Current best value is 1.2035487929833413 with parameters: {'num_leaves': 8}.\n",
      "tune_num_leaves, val_score: 1.203549:  70%|##############################8             | 14/20 [00:09<00:03,  1.64it/s]"
     ]
    },
    {
     "name": "stdout",
     "output_type": "stream",
     "text": [
      "Training until validation scores don't improve for 100 rounds\n",
      "[100]\ttrain's rmse: 1.35804\tvalid's rmse: 1.701\n",
      "[200]\ttrain's rmse: 1.20393\tvalid's rmse: 1.61125\n",
      "[300]\ttrain's rmse: 1.12536\tvalid's rmse: 1.57784\n",
      "[400]\ttrain's rmse: 1.07643\tvalid's rmse: 1.55016\n",
      "[500]\ttrain's rmse: 1.01954\tvalid's rmse: 1.48857\n",
      "[600]\ttrain's rmse: 0.989921\tvalid's rmse: 1.47292\n",
      "[700]\ttrain's rmse: 0.966137\tvalid's rmse: 1.46389\n",
      "[800]\ttrain's rmse: 0.938619\tvalid's rmse: 1.45093\n",
      "[900]\ttrain's rmse: 0.919288\tvalid's rmse: 1.44342\n",
      "[1000]\ttrain's rmse: 0.89793\tvalid's rmse: 1.42051\n",
      "Did not meet early stopping. Best iteration is:\n",
      "[1000]\ttrain's rmse: 0.89793\tvalid's rmse: 1.42051\n"
     ]
    },
    {
     "name": "stderr",
     "output_type": "stream",
     "text": [
      "tune_num_leaves, val_score: 1.203549:  75%|#################################           | 15/20 [00:09<00:02,  1.78it/s][I 2020-03-24 17:45:01,620] Finished trial#14 resulted in value: 1.420514466639014. Current best value is 1.2035487929833413 with parameters: {'num_leaves': 8}.\n",
      "tune_num_leaves, val_score: 1.203549:  75%|#################################           | 15/20 [00:09<00:02,  1.78it/s]"
     ]
    },
    {
     "name": "stdout",
     "output_type": "stream",
     "text": [
      "Training until validation scores don't improve for 100 rounds\n",
      "[100]\ttrain's rmse: 0.717645\tvalid's rmse: 1.38432\n",
      "[200]\ttrain's rmse: 0.517392\tvalid's rmse: 1.31985\n",
      "[300]\ttrain's rmse: 0.41676\tvalid's rmse: 1.2951\n",
      "[400]\ttrain's rmse: 0.355695\tvalid's rmse: 1.28678\n",
      "[500]\ttrain's rmse: 0.314579\tvalid's rmse: 1.2844\n",
      "[600]\ttrain's rmse: 0.28891\tvalid's rmse: 1.28235\n",
      "Early stopping, best iteration is:\n",
      "[592]\ttrain's rmse: 0.290248\tvalid's rmse: 1.28139\n"
     ]
    },
    {
     "name": "stderr",
     "output_type": "stream",
     "text": [
      "tune_num_leaves, val_score: 1.203549:  80%|###################################2        | 16/20 [00:10<00:02,  1.67it/s][I 2020-03-24 17:45:02,305] Finished trial#15 resulted in value: 1.2813883921028735. Current best value is 1.2035487929833413 with parameters: {'num_leaves': 8}.\n",
      "tune_num_leaves, val_score: 1.203549:  80%|###################################2        | 16/20 [00:10<00:02,  1.67it/s]"
     ]
    },
    {
     "name": "stdout",
     "output_type": "stream",
     "text": [
      "Training until validation scores don't improve for 100 rounds\n",
      "[100]\ttrain's rmse: 0.717645\tvalid's rmse: 1.38432\n",
      "[200]\ttrain's rmse: 0.517392\tvalid's rmse: 1.31985\n",
      "[300]\ttrain's rmse: 0.41676\tvalid's rmse: 1.2951\n",
      "[400]\ttrain's rmse: 0.355695\tvalid's rmse: 1.28678\n",
      "[500]\ttrain's rmse: 0.314579\tvalid's rmse: 1.2844\n",
      "[600]\ttrain's rmse: 0.28891\tvalid's rmse: 1.28235\n",
      "Early stopping, best iteration is:\n",
      "[592]\ttrain's rmse: 0.290248\tvalid's rmse: 1.28139\n"
     ]
    },
    {
     "name": "stderr",
     "output_type": "stream",
     "text": [
      "tune_num_leaves, val_score: 1.203549:  85%|#####################################4      | 17/20 [00:11<00:01,  1.60it/s][I 2020-03-24 17:45:02,984] Finished trial#16 resulted in value: 1.2813883921028735. Current best value is 1.2035487929833413 with parameters: {'num_leaves': 8}.\n",
      "tune_num_leaves, val_score: 1.203549:  85%|#####################################4      | 17/20 [00:11<00:01,  1.60it/s]"
     ]
    },
    {
     "name": "stdout",
     "output_type": "stream",
     "text": [
      "Training until validation scores don't improve for 100 rounds\n",
      "[100]\ttrain's rmse: 0.717645\tvalid's rmse: 1.38432\n",
      "[200]\ttrain's rmse: 0.517392\tvalid's rmse: 1.31985\n",
      "[300]\ttrain's rmse: 0.41676\tvalid's rmse: 1.2951\n",
      "[400]\ttrain's rmse: 0.355695\tvalid's rmse: 1.28678\n",
      "[500]\ttrain's rmse: 0.314579\tvalid's rmse: 1.2844\n",
      "[600]\ttrain's rmse: 0.28891\tvalid's rmse: 1.28235\n",
      "Early stopping, best iteration is:\n",
      "[592]\ttrain's rmse: 0.290248\tvalid's rmse: 1.28139\n"
     ]
    },
    {
     "name": "stderr",
     "output_type": "stream",
     "text": [
      "tune_num_leaves, val_score: 1.203549:  90%|#######################################6    | 18/20 [00:11<00:01,  1.54it/s][I 2020-03-24 17:45:03,683] Finished trial#17 resulted in value: 1.2813883921028735. Current best value is 1.2035487929833413 with parameters: {'num_leaves': 8}.\n",
      "tune_num_leaves, val_score: 1.203549:  90%|#######################################6    | 18/20 [00:12<00:01,  1.54it/s]"
     ]
    },
    {
     "name": "stdout",
     "output_type": "stream",
     "text": [
      "Training until validation scores don't improve for 100 rounds\n",
      "[100]\ttrain's rmse: 0.717645\tvalid's rmse: 1.38432\n",
      "[200]\ttrain's rmse: 0.517392\tvalid's rmse: 1.31985\n",
      "[300]\ttrain's rmse: 0.41676\tvalid's rmse: 1.2951\n",
      "[400]\ttrain's rmse: 0.355695\tvalid's rmse: 1.28678\n",
      "[500]\ttrain's rmse: 0.314579\tvalid's rmse: 1.2844\n",
      "[600]\ttrain's rmse: 0.28891\tvalid's rmse: 1.28235\n",
      "Early stopping, best iteration is:\n",
      "[592]\ttrain's rmse: 0.290248\tvalid's rmse: 1.28139\n"
     ]
    },
    {
     "name": "stderr",
     "output_type": "stream",
     "text": [
      "tune_num_leaves, val_score: 1.203549:  95%|#########################################8  | 19/20 [00:12<00:00,  1.53it/s][I 2020-03-24 17:45:04,364] Finished trial#18 resulted in value: 1.2813883921028735. Current best value is 1.2035487929833413 with parameters: {'num_leaves': 8}.\n",
      "tune_num_leaves, val_score: 1.203549:  95%|#########################################8  | 19/20 [00:12<00:00,  1.53it/s]"
     ]
    },
    {
     "name": "stdout",
     "output_type": "stream",
     "text": [
      "Training until validation scores don't improve for 100 rounds\n",
      "[100]\ttrain's rmse: 0.717645\tvalid's rmse: 1.38432\n",
      "[200]\ttrain's rmse: 0.517392\tvalid's rmse: 1.31985\n",
      "[300]\ttrain's rmse: 0.41676\tvalid's rmse: 1.2951\n",
      "[400]\ttrain's rmse: 0.355695\tvalid's rmse: 1.28678\n",
      "[500]\ttrain's rmse: 0.314579\tvalid's rmse: 1.2844\n",
      "[600]\ttrain's rmse: 0.28891\tvalid's rmse: 1.28235\n",
      "Early stopping, best iteration is:\n",
      "[592]\ttrain's rmse: 0.290248\tvalid's rmse: 1.28139\n"
     ]
    },
    {
     "name": "stderr",
     "output_type": "stream",
     "text": [
      "tune_num_leaves, val_score: 1.203549: 100%|############################################| 20/20 [00:13<00:00,  1.50it/s][I 2020-03-24 17:45:05,076] Finished trial#19 resulted in value: 1.2813883921028735. Current best value is 1.2035487929833413 with parameters: {'num_leaves': 8}.\n",
      "tune_num_leaves, val_score: 1.203549: 100%|############################################| 20/20 [00:13<00:00,  1.49it/s]\n",
      "tune_bagging_fraction_and_bagging_freq, val_score: 1.203549:   0%|                              | 0/10 [00:00<?, ?it/s]"
     ]
    },
    {
     "name": "stdout",
     "output_type": "stream",
     "text": [
      "Training until validation scores don't improve for 100 rounds\n",
      "[100]\ttrain's rmse: 1.284\tvalid's rmse: 1.77255\n",
      "[200]\ttrain's rmse: 1.11501\tvalid's rmse: 1.67302\n",
      "[300]\ttrain's rmse: 1.01702\tvalid's rmse: 1.60425\n",
      "[400]\ttrain's rmse: 0.947354\tvalid's rmse: 1.54715\n",
      "[500]\ttrain's rmse: 0.886389\tvalid's rmse: 1.52922\n",
      "[600]\ttrain's rmse: 0.837757\tvalid's rmse: 1.52585\n",
      "Early stopping, best iteration is:\n",
      "[561]\ttrain's rmse: 0.856532\tvalid's rmse: 1.50632\n"
     ]
    },
    {
     "name": "stderr",
     "output_type": "stream",
     "text": [
      "tune_bagging_fraction_and_bagging_freq, val_score: 1.203549:  10%|##2                   | 1/10 [00:00<00:03,  2.90it/s][I 2020-03-24 17:45:05,532] Finished trial#0 resulted in value: 1.5063225646563334. Current best value is 1.5063225646563334 with parameters: {'bagging_fraction': 0.40313006569359505, 'bagging_freq': 3}.\n",
      "tune_bagging_fraction_and_bagging_freq, val_score: 1.203549:  10%|##2                   | 1/10 [00:00<00:03,  2.90it/s]"
     ]
    },
    {
     "name": "stdout",
     "output_type": "stream",
     "text": [
      "Training until validation scores don't improve for 100 rounds\n",
      "[100]\ttrain's rmse: 1.01459\tvalid's rmse: 1.5354\n",
      "[200]\ttrain's rmse: 0.837156\tvalid's rmse: 1.43885\n",
      "[300]\ttrain's rmse: 0.725609\tvalid's rmse: 1.41149\n",
      "[400]\ttrain's rmse: 0.643725\tvalid's rmse: 1.39322\n",
      "[500]\ttrain's rmse: 0.581111\tvalid's rmse: 1.37941\n",
      "[600]\ttrain's rmse: 0.535991\tvalid's rmse: 1.36484\n",
      "[700]\ttrain's rmse: 0.500424\tvalid's rmse: 1.37098\n",
      "Early stopping, best iteration is:\n",
      "[678]\ttrain's rmse: 0.508715\tvalid's rmse: 1.35641\n"
     ]
    },
    {
     "name": "stderr",
     "output_type": "stream",
     "text": [
      "tune_bagging_fraction_and_bagging_freq, val_score: 1.203549:  20%|####4                 | 2/10 [00:00<00:03,  2.59it/s][I 2020-03-24 17:45:06,010] Finished trial#1 resulted in value: 1.3564076870707535. Current best value is 1.3564076870707535 with parameters: {'bagging_fraction': 0.6461649259654129, 'bagging_freq': 5}.\n",
      "tune_bagging_fraction_and_bagging_freq, val_score: 1.203549:  20%|####4                 | 2/10 [00:00<00:03,  2.59it/s]"
     ]
    },
    {
     "name": "stdout",
     "output_type": "stream",
     "text": [
      "Training until validation scores don't improve for 100 rounds\n",
      "[100]\ttrain's rmse: 0.928981\tvalid's rmse: 1.48239\n",
      "[200]\ttrain's rmse: 0.74554\tvalid's rmse: 1.41199\n",
      "[300]\ttrain's rmse: 0.638579\tvalid's rmse: 1.36542\n",
      "[400]\ttrain's rmse: 0.568455\tvalid's rmse: 1.34618\n",
      "[500]\ttrain's rmse: 0.510457\tvalid's rmse: 1.32701\n",
      "[600]\ttrain's rmse: 0.467876\tvalid's rmse: 1.31964\n",
      "[700]\ttrain's rmse: 0.434745\tvalid's rmse: 1.31226\n",
      "[800]\ttrain's rmse: 0.40641\tvalid's rmse: 1.3066\n",
      "[900]\ttrain's rmse: 0.383029\tvalid's rmse: 1.30324\n",
      "[1000]\ttrain's rmse: 0.361538\tvalid's rmse: 1.30131\n",
      "Did not meet early stopping. Best iteration is:\n",
      "[1000]\ttrain's rmse: 0.361538\tvalid's rmse: 1.30131\n"
     ]
    },
    {
     "name": "stderr",
     "output_type": "stream",
     "text": [
      "tune_bagging_fraction_and_bagging_freq, val_score: 1.203549:  30%|######6               | 3/10 [00:01<00:03,  2.19it/s][I 2020-03-24 17:45:06,633] Finished trial#2 resulted in value: 1.3013117748539187. Current best value is 1.3013117748539187 with parameters: {'bagging_fraction': 0.7854653543499936, 'bagging_freq': 3}.\n",
      "tune_bagging_fraction_and_bagging_freq, val_score: 1.203549:  30%|######6               | 3/10 [00:01<00:03,  2.19it/s]"
     ]
    },
    {
     "name": "stdout",
     "output_type": "stream",
     "text": [
      "Training until validation scores don't improve for 100 rounds\n",
      "[100]\ttrain's rmse: 0.856758\tvalid's rmse: 1.39372\n",
      "[200]\ttrain's rmse: 0.691151\tvalid's rmse: 1.31653\n",
      "[300]\ttrain's rmse: 0.595372\tvalid's rmse: 1.27105\n",
      "[400]\ttrain's rmse: 0.528724\tvalid's rmse: 1.26703\n",
      "[500]\ttrain's rmse: 0.477714\tvalid's rmse: 1.25241\n",
      "[600]\ttrain's rmse: 0.438905\tvalid's rmse: 1.2597\n",
      "Early stopping, best iteration is:\n",
      "[520]\ttrain's rmse: 0.469628\tvalid's rmse: 1.25168\n"
     ]
    },
    {
     "name": "stderr",
     "output_type": "stream",
     "text": [
      "tune_bagging_fraction_and_bagging_freq, val_score: 1.203549:  40%|########8             | 4/10 [00:01<00:02,  2.26it/s][I 2020-03-24 17:45:07,046] Finished trial#3 resulted in value: 1.2516763673326812. Current best value is 1.2516763673326812 with parameters: {'bagging_fraction': 0.9148070302478164, 'bagging_freq': 4}.\n",
      "tune_bagging_fraction_and_bagging_freq, val_score: 1.203549:  40%|########8             | 4/10 [00:01<00:02,  2.26it/s]"
     ]
    },
    {
     "name": "stdout",
     "output_type": "stream",
     "text": [
      "Training until validation scores don't improve for 100 rounds\n",
      "[100]\ttrain's rmse: 0.931043\tvalid's rmse: 1.5021\n",
      "[200]\ttrain's rmse: 0.757084\tvalid's rmse: 1.40808\n",
      "[300]\ttrain's rmse: 0.647741\tvalid's rmse: 1.35982\n",
      "[400]\ttrain's rmse: 0.576836\tvalid's rmse: 1.33363\n",
      "[500]\ttrain's rmse: 0.518874\tvalid's rmse: 1.3153\n",
      "[600]\ttrain's rmse: 0.476943\tvalid's rmse: 1.31876\n",
      "Early stopping, best iteration is:\n",
      "[513]\ttrain's rmse: 0.513321\tvalid's rmse: 1.31215\n"
     ]
    },
    {
     "name": "stderr",
     "output_type": "stream",
     "text": [
      "tune_bagging_fraction_and_bagging_freq, val_score: 1.203549:  50%|###########           | 5/10 [00:02<00:02,  2.28it/s][I 2020-03-24 17:45:07,477] Finished trial#4 resulted in value: 1.312145658602212. Current best value is 1.2516763673326812 with parameters: {'bagging_fraction': 0.9148070302478164, 'bagging_freq': 4}.\n",
      "tune_bagging_fraction_and_bagging_freq, val_score: 1.203549:  50%|###########           | 5/10 [00:02<00:02,  2.28it/s]"
     ]
    },
    {
     "name": "stdout",
     "output_type": "stream",
     "text": [
      "Training until validation scores don't improve for 100 rounds\n",
      "[100]\ttrain's rmse: 1.21625\tvalid's rmse: 1.67629\n",
      "[200]\ttrain's rmse: 1.01607\tvalid's rmse: 1.61026\n",
      "[300]\ttrain's rmse: 0.905417\tvalid's rmse: 1.54377\n",
      "[400]\ttrain's rmse: 0.831662\tvalid's rmse: 1.52056\n",
      "[500]\ttrain's rmse: 0.770693\tvalid's rmse: 1.50198\n",
      "[600]\ttrain's rmse: 0.720256\tvalid's rmse: 1.47313\n",
      "[700]\ttrain's rmse: 0.677985\tvalid's rmse: 1.45105\n",
      "Early stopping, best iteration is:\n",
      "[664]\ttrain's rmse: 0.691619\tvalid's rmse: 1.43978\n"
     ]
    },
    {
     "name": "stderr",
     "output_type": "stream",
     "text": [
      "tune_bagging_fraction_and_bagging_freq, val_score: 1.203549:  60%|#############2        | 6/10 [00:02<00:01,  2.20it/s][I 2020-03-24 17:45:07,966] Finished trial#5 resulted in value: 1.4397802390513037. Current best value is 1.2516763673326812 with parameters: {'bagging_fraction': 0.9148070302478164, 'bagging_freq': 4}.\n",
      "tune_bagging_fraction_and_bagging_freq, val_score: 1.203549:  60%|#############2        | 6/10 [00:02<00:01,  2.20it/s]"
     ]
    },
    {
     "name": "stdout",
     "output_type": "stream",
     "text": [
      "Training until validation scores don't improve for 100 rounds\n",
      "[100]\ttrain's rmse: 0.960408\tvalid's rmse: 1.51241\n",
      "[200]\ttrain's rmse: 0.785963\tvalid's rmse: 1.43954\n",
      "[300]\ttrain's rmse: 0.67992\tvalid's rmse: 1.37789\n",
      "[400]\ttrain's rmse: 0.599727\tvalid's rmse: 1.37435\n",
      "[500]\ttrain's rmse: 0.544772\tvalid's rmse: 1.35187\n",
      "Early stopping, best iteration is:\n",
      "[492]\ttrain's rmse: 0.550428\tvalid's rmse: 1.34429\n"
     ]
    },
    {
     "name": "stderr",
     "output_type": "stream",
     "text": [
      "tune_bagging_fraction_and_bagging_freq, val_score: 1.203549:  70%|###############4      | 7/10 [00:03<00:01,  2.24it/s][I 2020-03-24 17:45:08,396] Finished trial#6 resulted in value: 1.3442873420682697. Current best value is 1.2516763673326812 with parameters: {'bagging_fraction': 0.9148070302478164, 'bagging_freq': 4}.\n",
      "tune_bagging_fraction_and_bagging_freq, val_score: 1.203549:  70%|###############4      | 7/10 [00:03<00:01,  2.24it/s]"
     ]
    },
    {
     "name": "stdout",
     "output_type": "stream",
     "text": [
      "Training until validation scores don't improve for 100 rounds\n",
      "[100]\ttrain's rmse: 1.09315\tvalid's rmse: 1.60626\n",
      "[200]\ttrain's rmse: 0.914639\tvalid's rmse: 1.52806\n",
      "[300]\ttrain's rmse: 0.811081\tvalid's rmse: 1.4756\n",
      "[400]\ttrain's rmse: 0.730153\tvalid's rmse: 1.45924\n",
      "[500]\ttrain's rmse: 0.669765\tvalid's rmse: 1.43097\n",
      "[600]\ttrain's rmse: 0.622222\tvalid's rmse: 1.41951\n",
      "[700]\ttrain's rmse: 0.562753\tvalid's rmse: 1.3802\n",
      "[800]\ttrain's rmse: 0.523886\tvalid's rmse: 1.35669\n",
      "Early stopping, best iteration is:\n",
      "[752]\ttrain's rmse: 0.540566\tvalid's rmse: 1.35402\n"
     ]
    },
    {
     "name": "stderr",
     "output_type": "stream",
     "text": [
      "tune_bagging_fraction_and_bagging_freq, val_score: 1.203549:  80%|#################6    | 8/10 [00:03<00:00,  2.07it/s][I 2020-03-24 17:45:08,967] Finished trial#7 resulted in value: 1.3540212223064676. Current best value is 1.2516763673326812 with parameters: {'bagging_fraction': 0.9148070302478164, 'bagging_freq': 4}.\n",
      "tune_bagging_fraction_and_bagging_freq, val_score: 1.203549:  80%|#################6    | 8/10 [00:03<00:00,  2.07it/s]"
     ]
    },
    {
     "name": "stdout",
     "output_type": "stream",
     "text": [
      "Training until validation scores don't improve for 100 rounds\n",
      "[100]\ttrain's rmse: 0.966445\tvalid's rmse: 1.52654\n",
      "[200]\ttrain's rmse: 0.786348\tvalid's rmse: 1.44801\n",
      "[300]\ttrain's rmse: 0.680203\tvalid's rmse: 1.40149\n",
      "[400]\ttrain's rmse: 0.59985\tvalid's rmse: 1.37149\n",
      "[500]\ttrain's rmse: 0.537339\tvalid's rmse: 1.36584\n",
      "Early stopping, best iteration is:\n",
      "[450]\ttrain's rmse: 0.569459\tvalid's rmse: 1.35025\n"
     ]
    },
    {
     "name": "stderr",
     "output_type": "stream",
     "text": [
      "tune_bagging_fraction_and_bagging_freq, val_score: 1.203549:  90%|###################8  | 9/10 [00:04<00:00,  2.23it/s][I 2020-03-24 17:45:09,338] Finished trial#8 resulted in value: 1.3502522869703668. Current best value is 1.2516763673326812 with parameters: {'bagging_fraction': 0.9148070302478164, 'bagging_freq': 4}.\n",
      "tune_bagging_fraction_and_bagging_freq, val_score: 1.203549:  90%|###################8  | 9/10 [00:04<00:00,  2.23it/s]"
     ]
    },
    {
     "name": "stdout",
     "output_type": "stream",
     "text": [
      "Training until validation scores don't improve for 100 rounds\n",
      "[100]\ttrain's rmse: 0.849647\tvalid's rmse: 1.37657\n",
      "[200]\ttrain's rmse: 0.681753\tvalid's rmse: 1.29641\n",
      "[300]\ttrain's rmse: 0.585891\tvalid's rmse: 1.25224\n",
      "[400]\ttrain's rmse: 0.516505\tvalid's rmse: 1.23677\n",
      "[500]\ttrain's rmse: 0.468345\tvalid's rmse: 1.21752\n",
      "[600]\ttrain's rmse: 0.431188\tvalid's rmse: 1.20869\n",
      "[700]\ttrain's rmse: 0.402791\tvalid's rmse: 1.20223\n",
      "[800]\ttrain's rmse: 0.379001\tvalid's rmse: 1.19917\n",
      "[900]\ttrain's rmse: 0.360341\tvalid's rmse: 1.19743\n",
      "[1000]\ttrain's rmse: 0.342139\tvalid's rmse: 1.19552\n",
      "Did not meet early stopping. Best iteration is:\n",
      "[1000]\ttrain's rmse: 0.342139\tvalid's rmse: 1.19552\n"
     ]
    },
    {
     "name": "stderr",
     "output_type": "stream",
     "text": [
      "tune_bagging_fraction_and_bagging_freq, val_score: 1.195520: 100%|#####################| 10/10 [00:04<00:00,  1.99it/s][I 2020-03-24 17:45:09,963] Finished trial#9 resulted in value: 1.1955199892786579. Current best value is 1.1955199892786579 with parameters: {'bagging_fraction': 0.995986656805842, 'bagging_freq': 3}.\n",
      "tune_bagging_fraction_and_bagging_freq, val_score: 1.195520: 100%|#####################| 10/10 [00:04<00:00,  2.05it/s]\n",
      "tune_feature_fraction, val_score: 1.195520:   0%|                                                | 0/6 [00:00<?, ?it/s]"
     ]
    },
    {
     "name": "stdout",
     "output_type": "stream",
     "text": [
      "Training until validation scores don't improve for 100 rounds\n",
      "[100]\ttrain's rmse: 0.854025\tvalid's rmse: 1.38168\n",
      "[200]\ttrain's rmse: 0.691556\tvalid's rmse: 1.31032\n",
      "[300]\ttrain's rmse: 0.597655\tvalid's rmse: 1.29467\n",
      "[400]\ttrain's rmse: 0.535507\tvalid's rmse: 1.26901\n",
      "[500]\ttrain's rmse: 0.489273\tvalid's rmse: 1.26079\n",
      "[600]\ttrain's rmse: 0.446882\tvalid's rmse: 1.24074\n",
      "[700]\ttrain's rmse: 0.416908\tvalid's rmse: 1.23298\n",
      "[800]\ttrain's rmse: 0.393293\tvalid's rmse: 1.23259\n",
      "[900]\ttrain's rmse: 0.370748\tvalid's rmse: 1.22707\n",
      "[1000]\ttrain's rmse: 0.352724\tvalid's rmse: 1.22546\n",
      "Did not meet early stopping. Best iteration is:\n",
      "[1000]\ttrain's rmse: 0.352724\tvalid's rmse: 1.22546\n"
     ]
    },
    {
     "name": "stderr",
     "output_type": "stream",
     "text": [
      "tune_feature_fraction, val_score: 1.195520:  17%|######6                                 | 1/6 [00:00<00:02,  1.85it/s][I 2020-03-24 17:45:10,597] Finished trial#0 resulted in value: 1.2254598700576118. Current best value is 1.2254598700576118 with parameters: {'feature_fraction': 0.62}.\n",
      "tune_feature_fraction, val_score: 1.195520:  17%|######6                                 | 1/6 [00:00<00:02,  1.85it/s]"
     ]
    },
    {
     "name": "stdout",
     "output_type": "stream",
     "text": [
      "Training until validation scores don't improve for 100 rounds\n",
      "[100]\ttrain's rmse: 0.854025\tvalid's rmse: 1.38168\n",
      "[200]\ttrain's rmse: 0.691556\tvalid's rmse: 1.31032\n",
      "[300]\ttrain's rmse: 0.597655\tvalid's rmse: 1.29467\n",
      "[400]\ttrain's rmse: 0.535507\tvalid's rmse: 1.26901\n",
      "[500]\ttrain's rmse: 0.489273\tvalid's rmse: 1.26079\n",
      "[600]\ttrain's rmse: 0.446882\tvalid's rmse: 1.24074\n",
      "[700]\ttrain's rmse: 0.416908\tvalid's rmse: 1.23298\n",
      "[800]\ttrain's rmse: 0.393293\tvalid's rmse: 1.23259\n",
      "[900]\ttrain's rmse: 0.370748\tvalid's rmse: 1.22707\n",
      "[1000]\ttrain's rmse: 0.352724\tvalid's rmse: 1.22546\n",
      "Did not meet early stopping. Best iteration is:\n",
      "[1000]\ttrain's rmse: 0.352724\tvalid's rmse: 1.22546\n"
     ]
    },
    {
     "name": "stderr",
     "output_type": "stream",
     "text": [
      "tune_feature_fraction, val_score: 1.195520:  33%|#############3                          | 2/6 [00:01<00:02,  1.78it/s][I 2020-03-24 17:45:11,212] Finished trial#1 resulted in value: 1.2254598700576118. Current best value is 1.2254598700576118 with parameters: {'feature_fraction': 0.62}.\n",
      "tune_feature_fraction, val_score: 1.195520:  33%|#############3                          | 2/6 [00:01<00:02,  1.78it/s]"
     ]
    },
    {
     "name": "stdout",
     "output_type": "stream",
     "text": [
      "Training until validation scores don't improve for 100 rounds\n",
      "[100]\ttrain's rmse: 0.849647\tvalid's rmse: 1.37657\n",
      "[200]\ttrain's rmse: 0.681753\tvalid's rmse: 1.29641\n",
      "[300]\ttrain's rmse: 0.585891\tvalid's rmse: 1.25224\n",
      "[400]\ttrain's rmse: 0.516505\tvalid's rmse: 1.23677\n",
      "[500]\ttrain's rmse: 0.468345\tvalid's rmse: 1.21752\n",
      "[600]\ttrain's rmse: 0.431188\tvalid's rmse: 1.20869\n",
      "[700]\ttrain's rmse: 0.402791\tvalid's rmse: 1.20223\n",
      "[800]\ttrain's rmse: 0.379001\tvalid's rmse: 1.19917\n",
      "[900]\ttrain's rmse: 0.360341\tvalid's rmse: 1.19743\n",
      "[1000]\ttrain's rmse: 0.342139\tvalid's rmse: 1.19552\n",
      "Did not meet early stopping. Best iteration is:\n",
      "[1000]\ttrain's rmse: 0.342139\tvalid's rmse: 1.19552\n"
     ]
    },
    {
     "name": "stderr",
     "output_type": "stream",
     "text": [
      "tune_feature_fraction, val_score: 1.195520:  50%|####################                    | 3/6 [00:01<00:01,  1.74it/s][I 2020-03-24 17:45:11,822] Finished trial#2 resulted in value: 1.1955199892786579. Current best value is 1.1955199892786579 with parameters: {'feature_fraction': 0.6839999999999999}.\n",
      "tune_feature_fraction, val_score: 1.195520:  50%|####################                    | 3/6 [00:01<00:01,  1.74it/s]"
     ]
    },
    {
     "name": "stdout",
     "output_type": "stream",
     "text": [
      "Training until validation scores don't improve for 100 rounds\n",
      "[100]\ttrain's rmse: 0.849647\tvalid's rmse: 1.37657\n",
      "[200]\ttrain's rmse: 0.681753\tvalid's rmse: 1.29641\n",
      "[300]\ttrain's rmse: 0.585891\tvalid's rmse: 1.25224\n",
      "[400]\ttrain's rmse: 0.516505\tvalid's rmse: 1.23677\n",
      "[500]\ttrain's rmse: 0.468345\tvalid's rmse: 1.21752\n",
      "[600]\ttrain's rmse: 0.431188\tvalid's rmse: 1.20869\n",
      "[700]\ttrain's rmse: 0.402791\tvalid's rmse: 1.20223\n",
      "[800]\ttrain's rmse: 0.379001\tvalid's rmse: 1.19917\n",
      "[900]\ttrain's rmse: 0.360341\tvalid's rmse: 1.19743\n",
      "[1000]\ttrain's rmse: 0.342139\tvalid's rmse: 1.19552\n",
      "Did not meet early stopping. Best iteration is:\n",
      "[1000]\ttrain's rmse: 0.342139\tvalid's rmse: 1.19552\n"
     ]
    },
    {
     "name": "stderr",
     "output_type": "stream",
     "text": [
      "tune_feature_fraction, val_score: 1.195520:  67%|##########################6             | 4/6 [00:02<00:01,  1.72it/s][I 2020-03-24 17:45:12,414] Finished trial#3 resulted in value: 1.1955199892786579. Current best value is 1.1955199892786579 with parameters: {'feature_fraction': 0.6839999999999999}.\n",
      "tune_feature_fraction, val_score: 1.195520:  67%|##########################6             | 4/6 [00:02<00:01,  1.72it/s]"
     ]
    },
    {
     "name": "stdout",
     "output_type": "stream",
     "text": [
      "Training until validation scores don't improve for 100 rounds\n",
      "[100]\ttrain's rmse: 0.849647\tvalid's rmse: 1.37657\n",
      "[200]\ttrain's rmse: 0.681753\tvalid's rmse: 1.29641\n",
      "[300]\ttrain's rmse: 0.585891\tvalid's rmse: 1.25224\n",
      "[400]\ttrain's rmse: 0.516505\tvalid's rmse: 1.23677\n",
      "[500]\ttrain's rmse: 0.468345\tvalid's rmse: 1.21752\n",
      "[600]\ttrain's rmse: 0.431188\tvalid's rmse: 1.20869\n",
      "[700]\ttrain's rmse: 0.402791\tvalid's rmse: 1.20223\n",
      "[800]\ttrain's rmse: 0.379001\tvalid's rmse: 1.19917\n",
      "[900]\ttrain's rmse: 0.360341\tvalid's rmse: 1.19743\n",
      "[1000]\ttrain's rmse: 0.342139\tvalid's rmse: 1.19552\n",
      "Did not meet early stopping. Best iteration is:\n",
      "[1000]\ttrain's rmse: 0.342139\tvalid's rmse: 1.19552\n"
     ]
    },
    {
     "name": "stderr",
     "output_type": "stream",
     "text": [
      "tune_feature_fraction, val_score: 1.195520:  83%|#################################3      | 5/6 [00:02<00:00,  1.69it/s][I 2020-03-24 17:45:13,033] Finished trial#4 resulted in value: 1.1955199892786579. Current best value is 1.1955199892786579 with parameters: {'feature_fraction': 0.6839999999999999}.\n",
      "tune_feature_fraction, val_score: 1.195520:  83%|#################################3      | 5/6 [00:03<00:00,  1.69it/s]"
     ]
    },
    {
     "name": "stdout",
     "output_type": "stream",
     "text": [
      "Training until validation scores don't improve for 100 rounds\n",
      "[100]\ttrain's rmse: 0.829268\tvalid's rmse: 1.38433\n",
      "[200]\ttrain's rmse: 0.662039\tvalid's rmse: 1.29292\n",
      "[300]\ttrain's rmse: 0.56831\tvalid's rmse: 1.23597\n",
      "[400]\ttrain's rmse: 0.510124\tvalid's rmse: 1.22225\n",
      "[500]\ttrain's rmse: 0.464026\tvalid's rmse: 1.21646\n",
      "[600]\ttrain's rmse: 0.427064\tvalid's rmse: 1.20704\n",
      "[700]\ttrain's rmse: 0.400635\tvalid's rmse: 1.20228\n",
      "[800]\ttrain's rmse: 0.376027\tvalid's rmse: 1.19986\n",
      "[900]\ttrain's rmse: 0.355673\tvalid's rmse: 1.19568\n",
      "Early stopping, best iteration is:\n",
      "[837]\ttrain's rmse: 0.368142\tvalid's rmse: 1.19472\n"
     ]
    },
    {
     "name": "stderr",
     "output_type": "stream",
     "text": [
      "tune_feature_fraction, val_score: 1.194721: 100%|########################################| 6/6 [00:03<00:00,  1.68it/s][I 2020-03-24 17:45:13,633] Finished trial#5 resulted in value: 1.1947213632655662. Current best value is 1.1947213632655662 with parameters: {'feature_fraction': 0.7799999999999999}.\n",
      "tune_feature_fraction, val_score: 1.194721: 100%|########################################| 6/6 [00:03<00:00,  1.64it/s]\n",
      "tune_lambda_l1_and_lambda_l2, val_score: 1.194721:   0%|                                        | 0/20 [00:00<?, ?it/s]"
     ]
    },
    {
     "name": "stdout",
     "output_type": "stream",
     "text": [
      "Training until validation scores don't improve for 100 rounds\n",
      "[100]\ttrain's rmse: 0.829268\tvalid's rmse: 1.38433\n",
      "[200]\ttrain's rmse: 0.662039\tvalid's rmse: 1.29292\n",
      "[300]\ttrain's rmse: 0.56831\tvalid's rmse: 1.23597\n",
      "[400]\ttrain's rmse: 0.510124\tvalid's rmse: 1.22225\n",
      "[500]\ttrain's rmse: 0.464026\tvalid's rmse: 1.21646\n",
      "[600]\ttrain's rmse: 0.427064\tvalid's rmse: 1.20704\n",
      "[700]\ttrain's rmse: 0.400635\tvalid's rmse: 1.20228\n",
      "[800]\ttrain's rmse: 0.376027\tvalid's rmse: 1.19986\n",
      "[900]\ttrain's rmse: 0.355673\tvalid's rmse: 1.19568\n",
      "Early stopping, best iteration is:\n",
      "[837]\ttrain's rmse: 0.368142\tvalid's rmse: 1.19472\n"
     ]
    },
    {
     "name": "stderr",
     "output_type": "stream",
     "text": [
      "tune_lambda_l1_and_lambda_l2, val_score: 1.194721:   5%|#6                              | 1/20 [00:00<00:09,  1.99it/s][I 2020-03-24 17:45:14,253] Finished trial#0 resulted in value: 1.1947213725372787. Current best value is 1.1947213725372787 with parameters: {'lambda_l1': 8.591307185096571e-07, 'lambda_l2': 1.3304789500580013e-06}.\n",
      "tune_lambda_l1_and_lambda_l2, val_score: 1.194721:   5%|#6                              | 1/20 [00:00<00:09,  1.99it/s]"
     ]
    },
    {
     "name": "stdout",
     "output_type": "stream",
     "text": [
      "Training until validation scores don't improve for 100 rounds\n",
      "[100]\ttrain's rmse: 0.886741\tvalid's rmse: 1.41052\n",
      "[200]\ttrain's rmse: 0.721556\tvalid's rmse: 1.32149\n",
      "[300]\ttrain's rmse: 0.618871\tvalid's rmse: 1.28164\n",
      "[400]\ttrain's rmse: 0.553559\tvalid's rmse: 1.25216\n",
      "[500]\ttrain's rmse: 0.502585\tvalid's rmse: 1.23468\n",
      "[600]\ttrain's rmse: 0.463133\tvalid's rmse: 1.22864\n",
      "[700]\ttrain's rmse: 0.433261\tvalid's rmse: 1.22343\n",
      "Early stopping, best iteration is:\n",
      "[660]\ttrain's rmse: 0.444673\tvalid's rmse: 1.2219\n"
     ]
    },
    {
     "name": "stderr",
     "output_type": "stream",
     "text": [
      "tune_lambda_l1_and_lambda_l2, val_score: 1.194721:  10%|###2                            | 2/20 [00:01<00:09,  1.95it/s][I 2020-03-24 17:45:14,791] Finished trial#1 resulted in value: 1.2219038468787151. Current best value is 1.1947213725372787 with parameters: {'lambda_l1': 8.591307185096571e-07, 'lambda_l2': 1.3304789500580013e-06}.\n",
      "tune_lambda_l1_and_lambda_l2, val_score: 1.194721:  10%|###2                            | 2/20 [00:01<00:09,  1.95it/s]"
     ]
    },
    {
     "name": "stdout",
     "output_type": "stream",
     "text": [
      "Training until validation scores don't improve for 100 rounds\n",
      "[100]\ttrain's rmse: 0.844747\tvalid's rmse: 1.38662\n",
      "[200]\ttrain's rmse: 0.672747\tvalid's rmse: 1.28344\n",
      "[300]\ttrain's rmse: 0.573949\tvalid's rmse: 1.22641\n",
      "[400]\ttrain's rmse: 0.510645\tvalid's rmse: 1.19976\n",
      "[500]\ttrain's rmse: 0.46326\tvalid's rmse: 1.19448\n",
      "[600]\ttrain's rmse: 0.426994\tvalid's rmse: 1.1906\n",
      "[700]\ttrain's rmse: 0.398343\tvalid's rmse: 1.18287\n",
      "[800]\ttrain's rmse: 0.372543\tvalid's rmse: 1.17944\n",
      "[900]\ttrain's rmse: 0.350771\tvalid's rmse: 1.18397\n",
      "Early stopping, best iteration is:\n",
      "[802]\ttrain's rmse: 0.371975\tvalid's rmse: 1.17897\n"
     ]
    },
    {
     "name": "stderr",
     "output_type": "stream",
     "text": [
      "tune_lambda_l1_and_lambda_l2, val_score: 1.178974:  15%|####8                           | 3/20 [00:01<00:09,  1.86it/s][I 2020-03-24 17:45:15,382] Finished trial#2 resulted in value: 1.1789737741718287. Current best value is 1.1789737741718287 with parameters: {'lambda_l1': 1.547361521388433e-06, 'lambda_l2': 0.058832517767517356}.\n",
      "tune_lambda_l1_and_lambda_l2, val_score: 1.178974:  15%|####8                           | 3/20 [00:01<00:09,  1.86it/s]"
     ]
    },
    {
     "name": "stdout",
     "output_type": "stream",
     "text": [
      "Training until validation scores don't improve for 100 rounds\n",
      "[100]\ttrain's rmse: 0.829268\tvalid's rmse: 1.38433\n",
      "[200]\ttrain's rmse: 0.66204\tvalid's rmse: 1.29292\n",
      "[300]\ttrain's rmse: 0.569149\tvalid's rmse: 1.23604\n",
      "[400]\ttrain's rmse: 0.507811\tvalid's rmse: 1.21528\n",
      "[500]\ttrain's rmse: 0.459033\tvalid's rmse: 1.20739\n",
      "[600]\ttrain's rmse: 0.421333\tvalid's rmse: 1.19966\n",
      "[700]\ttrain's rmse: 0.391858\tvalid's rmse: 1.19474\n",
      "Early stopping, best iteration is:\n",
      "[654]\ttrain's rmse: 0.404886\tvalid's rmse: 1.19418\n"
     ]
    },
    {
     "name": "stderr",
     "output_type": "stream",
     "text": [
      "tune_lambda_l1_and_lambda_l2, val_score: 1.178974:  20%|######4                         | 4/20 [00:02<00:08,  1.92it/s][I 2020-03-24 17:45:15,864] Finished trial#3 resulted in value: 1.1941767779638466. Current best value is 1.1789737741718287 with parameters: {'lambda_l1': 1.547361521388433e-06, 'lambda_l2': 0.058832517767517356}.\n",
      "tune_lambda_l1_and_lambda_l2, val_score: 1.178974:  20%|######4                         | 4/20 [00:02<00:08,  1.92it/s]"
     ]
    },
    {
     "name": "stdout",
     "output_type": "stream",
     "text": [
      "Training until validation scores don't improve for 100 rounds\n",
      "[100]\ttrain's rmse: 0.87796\tvalid's rmse: 1.43397\n",
      "[200]\ttrain's rmse: 0.737438\tvalid's rmse: 1.37641\n",
      "[300]\ttrain's rmse: 0.658331\tvalid's rmse: 1.32701\n",
      "[400]\ttrain's rmse: 0.614827\tvalid's rmse: 1.31229\n",
      "[500]\ttrain's rmse: 0.594836\tvalid's rmse: 1.30736\n",
      "Early stopping, best iteration is:\n",
      "[467]\ttrain's rmse: 0.594957\tvalid's rmse: 1.30719\n"
     ]
    },
    {
     "name": "stderr",
     "output_type": "stream",
     "text": [
      "tune_lambda_l1_and_lambda_l2, val_score: 1.178974:  25%|########                        | 5/20 [00:02<00:07,  2.10it/s][I 2020-03-24 17:45:16,241] Finished trial#4 resulted in value: 1.3071896714113718. Current best value is 1.1789737741718287 with parameters: {'lambda_l1': 1.547361521388433e-06, 'lambda_l2': 0.058832517767517356}.\n",
      "tune_lambda_l1_and_lambda_l2, val_score: 1.178974:  25%|########                        | 5/20 [00:02<00:07,  2.10it/s]"
     ]
    },
    {
     "name": "stdout",
     "output_type": "stream",
     "text": [
      "Training until validation scores don't improve for 100 rounds\n",
      "[100]\ttrain's rmse: 0.845489\tvalid's rmse: 1.41662\n",
      "[200]\ttrain's rmse: 0.675875\tvalid's rmse: 1.32464\n",
      "[300]\ttrain's rmse: 0.575919\tvalid's rmse: 1.27772\n",
      "[400]\ttrain's rmse: 0.510169\tvalid's rmse: 1.25157\n",
      "[500]\ttrain's rmse: 0.460864\tvalid's rmse: 1.24509\n",
      "[600]\ttrain's rmse: 0.426204\tvalid's rmse: 1.2343\n",
      "[700]\ttrain's rmse: 0.396958\tvalid's rmse: 1.22714\n",
      "Early stopping, best iteration is:\n",
      "[678]\ttrain's rmse: 0.402927\tvalid's rmse: 1.22541\n"
     ]
    },
    {
     "name": "stderr",
     "output_type": "stream",
     "text": [
      "tune_lambda_l1_and_lambda_l2, val_score: 1.178974:  30%|#########6                      | 6/20 [00:03<00:06,  2.05it/s][I 2020-03-24 17:45:16,760] Finished trial#5 resulted in value: 1.2254092334863553. Current best value is 1.1789737741718287 with parameters: {'lambda_l1': 1.547361521388433e-06, 'lambda_l2': 0.058832517767517356}.\n",
      "tune_lambda_l1_and_lambda_l2, val_score: 1.178974:  30%|#########6                      | 6/20 [00:03<00:06,  2.05it/s]"
     ]
    },
    {
     "name": "stdout",
     "output_type": "stream",
     "text": [
      "Training until validation scores don't improve for 100 rounds\n",
      "[100]\ttrain's rmse: 0.865128\tvalid's rmse: 1.41626\n",
      "[200]\ttrain's rmse: 0.702051\tvalid's rmse: 1.33719\n",
      "[300]\ttrain's rmse: 0.613428\tvalid's rmse: 1.29628\n",
      "[400]\ttrain's rmse: 0.554827\tvalid's rmse: 1.27349\n",
      "[500]\ttrain's rmse: 0.515456\tvalid's rmse: 1.27448\n",
      "Early stopping, best iteration is:\n",
      "[453]\ttrain's rmse: 0.531799\tvalid's rmse: 1.27068\n"
     ]
    },
    {
     "name": "stderr",
     "output_type": "stream",
     "text": [
      "tune_lambda_l1_and_lambda_l2, val_score: 1.178974:  35%|###########2                    | 7/20 [00:03<00:05,  2.19it/s][I 2020-03-24 17:45:17,139] Finished trial#6 resulted in value: 1.2706817997791438. Current best value is 1.1789737741718287 with parameters: {'lambda_l1': 1.547361521388433e-06, 'lambda_l2': 0.058832517767517356}.\n",
      "tune_lambda_l1_and_lambda_l2, val_score: 1.178974:  35%|###########2                    | 7/20 [00:03<00:05,  2.19it/s]"
     ]
    },
    {
     "name": "stdout",
     "output_type": "stream",
     "text": [
      "Training until validation scores don't improve for 100 rounds\n",
      "[100]\ttrain's rmse: 0.82927\tvalid's rmse: 1.38433\n",
      "[200]\ttrain's rmse: 0.662041\tvalid's rmse: 1.29292\n",
      "[300]\ttrain's rmse: 0.568311\tvalid's rmse: 1.23597\n",
      "[400]\ttrain's rmse: 0.510125\tvalid's rmse: 1.22225\n",
      "[500]\ttrain's rmse: 0.464028\tvalid's rmse: 1.21646\n",
      "[600]\ttrain's rmse: 0.427065\tvalid's rmse: 1.20704\n",
      "[700]\ttrain's rmse: 0.400636\tvalid's rmse: 1.20228\n",
      "[800]\ttrain's rmse: 0.376028\tvalid's rmse: 1.19986\n",
      "[900]\ttrain's rmse: 0.355674\tvalid's rmse: 1.19568\n",
      "Early stopping, best iteration is:\n",
      "[837]\ttrain's rmse: 0.368143\tvalid's rmse: 1.19472\n"
     ]
    },
    {
     "name": "stderr",
     "output_type": "stream",
     "text": [
      "tune_lambda_l1_and_lambda_l2, val_score: 1.178974:  40%|############8                   | 8/20 [00:03<00:05,  2.03it/s][I 2020-03-24 17:45:17,714] Finished trial#7 resulted in value: 1.194721372725293. Current best value is 1.1789737741718287 with parameters: {'lambda_l1': 1.547361521388433e-06, 'lambda_l2': 0.058832517767517356}.\n",
      "tune_lambda_l1_and_lambda_l2, val_score: 1.178974:  40%|############8                   | 8/20 [00:04<00:05,  2.03it/s]"
     ]
    },
    {
     "name": "stdout",
     "output_type": "stream",
     "text": [
      "Training until validation scores don't improve for 100 rounds\n",
      "[100]\ttrain's rmse: 0.829274\tvalid's rmse: 1.38433\n",
      "[200]\ttrain's rmse: 0.662046\tvalid's rmse: 1.29292\n",
      "[300]\ttrain's rmse: 0.568316\tvalid's rmse: 1.23597\n",
      "[400]\ttrain's rmse: 0.51013\tvalid's rmse: 1.22225\n",
      "[500]\ttrain's rmse: 0.464032\tvalid's rmse: 1.21646\n",
      "[600]\ttrain's rmse: 0.42707\tvalid's rmse: 1.20704\n",
      "[700]\ttrain's rmse: 0.40064\tvalid's rmse: 1.20228\n",
      "[800]\ttrain's rmse: 0.376032\tvalid's rmse: 1.19986\n",
      "[900]\ttrain's rmse: 0.355678\tvalid's rmse: 1.19568\n",
      "Early stopping, best iteration is:\n",
      "[837]\ttrain's rmse: 0.368146\tvalid's rmse: 1.19472\n"
     ]
    },
    {
     "name": "stderr",
     "output_type": "stream",
     "text": [
      "tune_lambda_l1_and_lambda_l2, val_score: 1.178974:  45%|##############4                 | 9/20 [00:04<00:05,  1.94it/s][I 2020-03-24 17:45:18,281] Finished trial#8 resulted in value: 1.194721412845163. Current best value is 1.1789737741718287 with parameters: {'lambda_l1': 1.547361521388433e-06, 'lambda_l2': 0.058832517767517356}.\n",
      "tune_lambda_l1_and_lambda_l2, val_score: 1.178974:  45%|##############4                 | 9/20 [00:04<00:05,  1.94it/s]"
     ]
    },
    {
     "name": "stdout",
     "output_type": "stream",
     "text": [
      "Training until validation scores don't improve for 100 rounds\n",
      "[100]\ttrain's rmse: 0.82927\tvalid's rmse: 1.38433\n",
      "[200]\ttrain's rmse: 0.662512\tvalid's rmse: 1.29592\n",
      "[300]\ttrain's rmse: 0.571406\tvalid's rmse: 1.2405\n",
      "[400]\ttrain's rmse: 0.510291\tvalid's rmse: 1.22083\n",
      "[500]\ttrain's rmse: 0.461937\tvalid's rmse: 1.21268\n",
      "[600]\ttrain's rmse: 0.42309\tvalid's rmse: 1.20523\n",
      "[700]\ttrain's rmse: 0.394482\tvalid's rmse: 1.20124\n",
      "Early stopping, best iteration is:\n",
      "[660]\ttrain's rmse: 0.403978\tvalid's rmse: 1.20054\n"
     ]
    },
    {
     "name": "stderr",
     "output_type": "stream",
     "text": [
      "tune_lambda_l1_and_lambda_l2, val_score: 1.178974:  50%|###############5               | 10/20 [00:05<00:05,  1.98it/s][I 2020-03-24 17:45:18,764] Finished trial#9 resulted in value: 1.2005411440075568. Current best value is 1.1789737741718287 with parameters: {'lambda_l1': 1.547361521388433e-06, 'lambda_l2': 0.058832517767517356}.\n",
      "tune_lambda_l1_and_lambda_l2, val_score: 1.178974:  50%|###############5               | 10/20 [00:05<00:05,  1.98it/s]"
     ]
    },
    {
     "name": "stdout",
     "output_type": "stream",
     "text": [
      "Training until validation scores don't improve for 100 rounds\n",
      "[100]\ttrain's rmse: 0.848443\tvalid's rmse: 1.40832\n",
      "[200]\ttrain's rmse: 0.671032\tvalid's rmse: 1.30047\n",
      "[300]\ttrain's rmse: 0.576025\tvalid's rmse: 1.24742\n",
      "[400]\ttrain's rmse: 0.508296\tvalid's rmse: 1.22451\n",
      "[500]\ttrain's rmse: 0.458392\tvalid's rmse: 1.21228\n",
      "[600]\ttrain's rmse: 0.424723\tvalid's rmse: 1.20462\n",
      "[700]\ttrain's rmse: 0.39674\tvalid's rmse: 1.19774\n",
      "[800]\ttrain's rmse: 0.374533\tvalid's rmse: 1.19813\n",
      "Early stopping, best iteration is:\n",
      "[768]\ttrain's rmse: 0.381086\tvalid's rmse: 1.19601\n"
     ]
    },
    {
     "name": "stderr",
     "output_type": "stream",
     "text": [
      "tune_lambda_l1_and_lambda_l2, val_score: 1.178974:  55%|#################              | 11/20 [00:05<00:04,  1.95it/s][I 2020-03-24 17:45:19,293] Finished trial#10 resulted in value: 1.1960140010019902. Current best value is 1.1789737741718287 with parameters: {'lambda_l1': 1.547361521388433e-06, 'lambda_l2': 0.058832517767517356}.\n",
      "tune_lambda_l1_and_lambda_l2, val_score: 1.178974:  55%|#################              | 11/20 [00:05<00:04,  1.95it/s]"
     ]
    },
    {
     "name": "stdout",
     "output_type": "stream",
     "text": [
      "Training until validation scores don't improve for 100 rounds\n",
      "[100]\ttrain's rmse: 0.829269\tvalid's rmse: 1.38433\n",
      "[200]\ttrain's rmse: 0.66204\tvalid's rmse: 1.29292\n",
      "[300]\ttrain's rmse: 0.568311\tvalid's rmse: 1.23597\n",
      "[400]\ttrain's rmse: 0.510125\tvalid's rmse: 1.22225\n",
      "[500]\ttrain's rmse: 0.464027\tvalid's rmse: 1.21646\n",
      "[600]\ttrain's rmse: 0.427065\tvalid's rmse: 1.20704\n",
      "[700]\ttrain's rmse: 0.400636\tvalid's rmse: 1.20228\n",
      "[800]\ttrain's rmse: 0.376028\tvalid's rmse: 1.19986\n",
      "[900]\ttrain's rmse: 0.355674\tvalid's rmse: 1.19568\n",
      "Early stopping, best iteration is:\n",
      "[837]\ttrain's rmse: 0.368143\tvalid's rmse: 1.19472\n"
     ]
    },
    {
     "name": "stderr",
     "output_type": "stream",
     "text": [
      "tune_lambda_l1_and_lambda_l2, val_score: 1.178974:  60%|##################5            | 12/20 [00:06<00:04,  1.88it/s][I 2020-03-24 17:45:19,866] Finished trial#11 resulted in value: 1.1947213976072355. Current best value is 1.1789737741718287 with parameters: {'lambda_l1': 1.547361521388433e-06, 'lambda_l2': 0.058832517767517356}.\n",
      "tune_lambda_l1_and_lambda_l2, val_score: 1.178974:  60%|##################5            | 12/20 [00:06<00:04,  1.88it/s]"
     ]
    },
    {
     "name": "stdout",
     "output_type": "stream",
     "text": [
      "Training until validation scores don't improve for 100 rounds\n",
      "[100]\ttrain's rmse: 0.848738\tvalid's rmse: 1.40861\n",
      "[200]\ttrain's rmse: 0.670156\tvalid's rmse: 1.29835\n",
      "[300]\ttrain's rmse: 0.577044\tvalid's rmse: 1.25405\n",
      "[400]\ttrain's rmse: 0.511169\tvalid's rmse: 1.23055\n",
      "[500]\ttrain's rmse: 0.463576\tvalid's rmse: 1.2174\n",
      "[600]\ttrain's rmse: 0.424366\tvalid's rmse: 1.20894\n",
      "[700]\ttrain's rmse: 0.395027\tvalid's rmse: 1.20658\n",
      "Early stopping, best iteration is:\n",
      "[652]\ttrain's rmse: 0.408765\tvalid's rmse: 1.20563\n"
     ]
    },
    {
     "name": "stderr",
     "output_type": "stream",
     "text": [
      "tune_lambda_l1_and_lambda_l2, val_score: 1.178974:  65%|####################1          | 13/20 [00:06<00:03,  1.94it/s][I 2020-03-24 17:45:20,341] Finished trial#12 resulted in value: 1.2056284349511377. Current best value is 1.1789737741718287 with parameters: {'lambda_l1': 1.547361521388433e-06, 'lambda_l2': 0.058832517767517356}.\n",
      "tune_lambda_l1_and_lambda_l2, val_score: 1.178974:  65%|####################1          | 13/20 [00:06<00:03,  1.94it/s]"
     ]
    },
    {
     "name": "stdout",
     "output_type": "stream",
     "text": [
      "Training until validation scores don't improve for 100 rounds\n",
      "[100]\ttrain's rmse: 0.829269\tvalid's rmse: 1.38433\n",
      "[200]\ttrain's rmse: 0.66204\tvalid's rmse: 1.29292\n",
      "[300]\ttrain's rmse: 0.56915\tvalid's rmse: 1.23604\n",
      "[400]\ttrain's rmse: 0.507811\tvalid's rmse: 1.21528\n",
      "[500]\ttrain's rmse: 0.459034\tvalid's rmse: 1.20739\n",
      "[600]\ttrain's rmse: 0.421333\tvalid's rmse: 1.19966\n",
      "[700]\ttrain's rmse: 0.391859\tvalid's rmse: 1.19474\n",
      "Early stopping, best iteration is:\n",
      "[654]\ttrain's rmse: 0.404887\tvalid's rmse: 1.19418\n"
     ]
    },
    {
     "name": "stderr",
     "output_type": "stream",
     "text": [
      "tune_lambda_l1_and_lambda_l2, val_score: 1.178974:  70%|#####################7         | 14/20 [00:07<00:03,  1.98it/s][I 2020-03-24 17:45:20,823] Finished trial#13 resulted in value: 1.194176957161901. Current best value is 1.1789737741718287 with parameters: {'lambda_l1': 1.547361521388433e-06, 'lambda_l2': 0.058832517767517356}.\n",
      "tune_lambda_l1_and_lambda_l2, val_score: 1.178974:  70%|#####################7         | 14/20 [00:07<00:03,  1.98it/s]"
     ]
    },
    {
     "name": "stdout",
     "output_type": "stream",
     "text": [
      "Training until validation scores don't improve for 100 rounds\n",
      "[100]\ttrain's rmse: 0.844774\tvalid's rmse: 1.38611\n",
      "[200]\ttrain's rmse: 0.672716\tvalid's rmse: 1.29245\n",
      "[300]\ttrain's rmse: 0.572506\tvalid's rmse: 1.24679\n",
      "[400]\ttrain's rmse: 0.509885\tvalid's rmse: 1.22786\n",
      "[500]\ttrain's rmse: 0.463295\tvalid's rmse: 1.2127\n",
      "[600]\ttrain's rmse: 0.425643\tvalid's rmse: 1.19987\n",
      "[700]\ttrain's rmse: 0.394712\tvalid's rmse: 1.19363\n",
      "[800]\ttrain's rmse: 0.370531\tvalid's rmse: 1.19269\n",
      "[900]\ttrain's rmse: 0.349703\tvalid's rmse: 1.19413\n",
      "Early stopping, best iteration is:\n",
      "[816]\ttrain's rmse: 0.366905\tvalid's rmse: 1.19139\n"
     ]
    },
    {
     "name": "stderr",
     "output_type": "stream",
     "text": [
      "tune_lambda_l1_and_lambda_l2, val_score: 1.178974:  75%|#######################2       | 15/20 [00:07<00:02,  1.90it/s][I 2020-03-24 17:45:21,401] Finished trial#14 resulted in value: 1.1913905331388148. Current best value is 1.1789737741718287 with parameters: {'lambda_l1': 1.547361521388433e-06, 'lambda_l2': 0.058832517767517356}.\n",
      "tune_lambda_l1_and_lambda_l2, val_score: 1.178974:  75%|#######################2       | 15/20 [00:07<00:02,  1.90it/s]"
     ]
    },
    {
     "name": "stdout",
     "output_type": "stream",
     "text": [
      "Training until validation scores don't improve for 100 rounds\n",
      "[100]\ttrain's rmse: 0.86233\tvalid's rmse: 1.42404\n",
      "[200]\ttrain's rmse: 0.696266\tvalid's rmse: 1.32671\n",
      "[300]\ttrain's rmse: 0.597608\tvalid's rmse: 1.29339\n",
      "[400]\ttrain's rmse: 0.530131\tvalid's rmse: 1.26269\n",
      "[500]\ttrain's rmse: 0.480715\tvalid's rmse: 1.2512\n",
      "[600]\ttrain's rmse: 0.441007\tvalid's rmse: 1.24344\n",
      "[700]\ttrain's rmse: 0.412362\tvalid's rmse: 1.234\n",
      "[800]\ttrain's rmse: 0.389483\tvalid's rmse: 1.23256\n",
      "[900]\ttrain's rmse: 0.368468\tvalid's rmse: 1.23047\n",
      "[1000]\ttrain's rmse: 0.350796\tvalid's rmse: 1.23117\n",
      "Did not meet early stopping. Best iteration is:\n",
      "[1000]\ttrain's rmse: 0.350796\tvalid's rmse: 1.23117\n"
     ]
    },
    {
     "name": "stderr",
     "output_type": "stream",
     "text": [
      "tune_lambda_l1_and_lambda_l2, val_score: 1.178974:  80%|########################8      | 16/20 [00:08<00:02,  1.78it/s][I 2020-03-24 17:45:22,033] Finished trial#15 resulted in value: 1.2311684919323147. Current best value is 1.1789737741718287 with parameters: {'lambda_l1': 1.547361521388433e-06, 'lambda_l2': 0.058832517767517356}.\n",
      "tune_lambda_l1_and_lambda_l2, val_score: 1.178974:  80%|########################8      | 16/20 [00:08<00:02,  1.78it/s]"
     ]
    },
    {
     "name": "stdout",
     "output_type": "stream",
     "text": [
      "Training until validation scores don't improve for 100 rounds\n",
      "[100]\ttrain's rmse: 0.831748\tvalid's rmse: 1.40493\n",
      "[200]\ttrain's rmse: 0.66082\tvalid's rmse: 1.31559\n",
      "[300]\ttrain's rmse: 0.563998\tvalid's rmse: 1.28436\n",
      "[400]\ttrain's rmse: 0.506359\tvalid's rmse: 1.26672\n",
      "[500]\ttrain's rmse: 0.457332\tvalid's rmse: 1.24665\n",
      "[600]\ttrain's rmse: 0.418189\tvalid's rmse: 1.23578\n",
      "[700]\ttrain's rmse: 0.392367\tvalid's rmse: 1.2258\n",
      "[800]\ttrain's rmse: 0.368752\tvalid's rmse: 1.22283\n",
      "[900]\ttrain's rmse: 0.34828\tvalid's rmse: 1.2257\n",
      "Early stopping, best iteration is:\n",
      "[836]\ttrain's rmse: 0.361834\tvalid's rmse: 1.22103\n"
     ]
    },
    {
     "name": "stderr",
     "output_type": "stream",
     "text": [
      "tune_lambda_l1_and_lambda_l2, val_score: 1.178974:  85%|##########################3    | 17/20 [00:08<00:01,  1.77it/s][I 2020-03-24 17:45:22,613] Finished trial#16 resulted in value: 1.2210349821629154. Current best value is 1.1789737741718287 with parameters: {'lambda_l1': 1.547361521388433e-06, 'lambda_l2': 0.058832517767517356}.\n",
      "tune_lambda_l1_and_lambda_l2, val_score: 1.178974:  85%|##########################3    | 17/20 [00:08<00:01,  1.77it/s]"
     ]
    },
    {
     "name": "stdout",
     "output_type": "stream",
     "text": [
      "Training until validation scores don't improve for 100 rounds\n",
      "[100]\ttrain's rmse: 0.848445\tvalid's rmse: 1.40832\n",
      "[200]\ttrain's rmse: 0.670054\tvalid's rmse: 1.30658\n",
      "[300]\ttrain's rmse: 0.574285\tvalid's rmse: 1.24268\n",
      "[400]\ttrain's rmse: 0.508381\tvalid's rmse: 1.23026\n",
      "[500]\ttrain's rmse: 0.46183\tvalid's rmse: 1.21611\n",
      "[600]\ttrain's rmse: 0.425216\tvalid's rmse: 1.21042\n",
      "[700]\ttrain's rmse: 0.395282\tvalid's rmse: 1.20792\n",
      "Early stopping, best iteration is:\n",
      "[652]\ttrain's rmse: 0.408397\tvalid's rmse: 1.2057\n"
     ]
    },
    {
     "name": "stderr",
     "output_type": "stream",
     "text": [
      "tune_lambda_l1_and_lambda_l2, val_score: 1.178974:  90%|###########################9   | 18/20 [00:09<00:01,  1.85it/s][I 2020-03-24 17:45:23,099] Finished trial#17 resulted in value: 1.2056977477101025. Current best value is 1.1789737741718287 with parameters: {'lambda_l1': 1.547361521388433e-06, 'lambda_l2': 0.058832517767517356}.\n",
      "tune_lambda_l1_and_lambda_l2, val_score: 1.178974:  90%|###########################9   | 18/20 [00:09<00:01,  1.85it/s]"
     ]
    },
    {
     "name": "stdout",
     "output_type": "stream",
     "text": [
      "Training until validation scores don't improve for 100 rounds\n",
      "[100]\ttrain's rmse: 0.840511\tvalid's rmse: 1.38926\n",
      "[200]\ttrain's rmse: 0.671974\tvalid's rmse: 1.30804\n",
      "[300]\ttrain's rmse: 0.578361\tvalid's rmse: 1.27457\n",
      "[400]\ttrain's rmse: 0.512195\tvalid's rmse: 1.253\n",
      "[500]\ttrain's rmse: 0.466538\tvalid's rmse: 1.2371\n",
      "[600]\ttrain's rmse: 0.42767\tvalid's rmse: 1.21645\n",
      "[700]\ttrain's rmse: 0.398402\tvalid's rmse: 1.21075\n",
      "[800]\ttrain's rmse: 0.375042\tvalid's rmse: 1.20792\n",
      "Early stopping, best iteration is:\n",
      "[734]\ttrain's rmse: 0.389644\tvalid's rmse: 1.20641\n"
     ]
    },
    {
     "name": "stderr",
     "output_type": "stream",
     "text": [
      "tune_lambda_l1_and_lambda_l2, val_score: 1.178974:  95%|#############################4 | 19/20 [00:09<00:00,  1.87it/s][I 2020-03-24 17:45:23,626] Finished trial#18 resulted in value: 1.2064076307278597. Current best value is 1.1789737741718287 with parameters: {'lambda_l1': 1.547361521388433e-06, 'lambda_l2': 0.058832517767517356}.\n",
      "tune_lambda_l1_and_lambda_l2, val_score: 1.178974:  95%|#############################4 | 19/20 [00:09<00:00,  1.87it/s]"
     ]
    },
    {
     "name": "stdout",
     "output_type": "stream",
     "text": [
      "Training until validation scores don't improve for 100 rounds\n",
      "[100]\ttrain's rmse: 0.85\tvalid's rmse: 1.39244\n",
      "[200]\ttrain's rmse: 0.675999\tvalid's rmse: 1.2815\n",
      "[300]\ttrain's rmse: 0.57587\tvalid's rmse: 1.23409\n",
      "[400]\ttrain's rmse: 0.509417\tvalid's rmse: 1.2241\n",
      "[500]\ttrain's rmse: 0.462357\tvalid's rmse: 1.21586\n",
      "[600]\ttrain's rmse: 0.424061\tvalid's rmse: 1.21004\n",
      "[700]\ttrain's rmse: 0.394417\tvalid's rmse: 1.19647\n",
      "[800]\ttrain's rmse: 0.368988\tvalid's rmse: 1.19479\n",
      "Early stopping, best iteration is:\n",
      "[770]\ttrain's rmse: 0.375713\tvalid's rmse: 1.19297\n"
     ]
    },
    {
     "name": "stderr",
     "output_type": "stream",
     "text": [
      "tune_lambda_l1_and_lambda_l2, val_score: 1.178974: 100%|###############################| 20/20 [00:10<00:00,  1.81it/s][I 2020-03-24 17:45:24,215] Finished trial#19 resulted in value: 1.1929710474186432. Current best value is 1.1789737741718287 with parameters: {'lambda_l1': 1.547361521388433e-06, 'lambda_l2': 0.058832517767517356}.\n",
      "tune_lambda_l1_and_lambda_l2, val_score: 1.178974: 100%|###############################| 20/20 [00:10<00:00,  1.89it/s]\n",
      "tune_min_child_samples, val_score: 1.178974:   0%|                                               | 0/5 [00:00<?, ?it/s]"
     ]
    },
    {
     "name": "stdout",
     "output_type": "stream",
     "text": [
      "Training until validation scores don't improve for 100 rounds\n",
      "[100]\ttrain's rmse: 0.47478\tvalid's rmse: 1.09999\n",
      "[200]\ttrain's rmse: 0.330838\tvalid's rmse: 1.07565\n",
      "[300]\ttrain's rmse: 0.241836\tvalid's rmse: 1.07366\n",
      "[400]\ttrain's rmse: 0.190498\tvalid's rmse: 1.06399\n",
      "[500]\ttrain's rmse: 0.15823\tvalid's rmse: 1.05911\n",
      "[600]\ttrain's rmse: 0.132378\tvalid's rmse: 1.0587\n",
      "Early stopping, best iteration is:\n",
      "[542]\ttrain's rmse: 0.14806\tvalid's rmse: 1.05651\n"
     ]
    },
    {
     "name": "stderr",
     "output_type": "stream",
     "text": [
      "tune_min_child_samples, val_score: 1.056510:  20%|#######8                               | 1/5 [00:00<00:01,  3.03it/s][I 2020-03-24 17:45:24,649] Finished trial#0 resulted in value: 1.0565098788943095. Current best value is 1.0565098788943095 with parameters: {'min_child_samples': 5}.\n",
      "tune_min_child_samples, val_score: 1.056510:  20%|#######8                               | 1/5 [00:00<00:01,  3.03it/s]"
     ]
    },
    {
     "name": "stdout",
     "output_type": "stream",
     "text": [
      "Training until validation scores don't improve for 100 rounds\n",
      "[100]\ttrain's rmse: 0.660265\tvalid's rmse: 1.14463\n",
      "[200]\ttrain's rmse: 0.493227\tvalid's rmse: 1.09633\n",
      "[300]\ttrain's rmse: 0.395452\tvalid's rmse: 1.09805\n",
      "Early stopping, best iteration is:\n",
      "[281]\ttrain's rmse: 0.407017\tvalid's rmse: 1.09126\n"
     ]
    },
    {
     "name": "stderr",
     "output_type": "stream",
     "text": [
      "tune_min_child_samples, val_score: 1.056510:  40%|###############6                       | 2/5 [00:00<00:00,  3.09it/s][I 2020-03-24 17:45:24,969] Finished trial#1 resulted in value: 1.091264474533587. Current best value is 1.0565098788943095 with parameters: {'min_child_samples': 5}.\n",
      "tune_min_child_samples, val_score: 1.056510:  40%|###############6                       | 2/5 [00:00<00:00,  3.09it/s]"
     ]
    },
    {
     "name": "stdout",
     "output_type": "stream",
     "text": [
      "Training until validation scores don't improve for 100 rounds\n",
      "[100]\ttrain's rmse: 0.920777\tvalid's rmse: 1.53113\n",
      "[200]\ttrain's rmse: 0.742514\tvalid's rmse: 1.43672\n",
      "[300]\ttrain's rmse: 0.63431\tvalid's rmse: 1.361\n",
      "[400]\ttrain's rmse: 0.563811\tvalid's rmse: 1.33469\n",
      "[500]\ttrain's rmse: 0.510107\tvalid's rmse: 1.31177\n",
      "[600]\ttrain's rmse: 0.470844\tvalid's rmse: 1.30416\n",
      "[700]\ttrain's rmse: 0.441758\tvalid's rmse: 1.30358\n",
      "[800]\ttrain's rmse: 0.416155\tvalid's rmse: 1.3019\n",
      "[900]\ttrain's rmse: 0.393263\tvalid's rmse: 1.30107\n",
      "[1000]\ttrain's rmse: 0.372896\tvalid's rmse: 1.29154\n",
      "Did not meet early stopping. Best iteration is:\n",
      "[1000]\ttrain's rmse: 0.372896\tvalid's rmse: 1.29154\n"
     ]
    },
    {
     "name": "stderr",
     "output_type": "stream",
     "text": [
      "tune_min_child_samples, val_score: 1.056510:  60%|#######################4               | 3/5 [00:01<00:00,  2.42it/s][I 2020-03-24 17:45:25,583] Finished trial#2 resulted in value: 1.2915356568961873. Current best value is 1.0565098788943095 with parameters: {'min_child_samples': 5}.\n",
      "tune_min_child_samples, val_score: 1.056510:  60%|#######################4               | 3/5 [00:01<00:00,  2.42it/s]"
     ]
    },
    {
     "name": "stdout",
     "output_type": "stream",
     "text": [
      "Training until validation scores don't improve for 100 rounds\n",
      "[100]\ttrain's rmse: 1.341\tvalid's rmse: 1.79372\n",
      "[200]\ttrain's rmse: 1.17933\tvalid's rmse: 1.70248\n",
      "[300]\ttrain's rmse: 1.05793\tvalid's rmse: 1.61871\n",
      "[400]\ttrain's rmse: 0.971199\tvalid's rmse: 1.55268\n",
      "[500]\ttrain's rmse: 0.90441\tvalid's rmse: 1.51785\n",
      "[600]\ttrain's rmse: 0.848838\tvalid's rmse: 1.48611\n",
      "[700]\ttrain's rmse: 0.804909\tvalid's rmse: 1.46431\n",
      "[800]\ttrain's rmse: 0.769458\tvalid's rmse: 1.44669\n",
      "[900]\ttrain's rmse: 0.737513\tvalid's rmse: 1.43291\n",
      "[1000]\ttrain's rmse: 0.710225\tvalid's rmse: 1.42403\n",
      "Did not meet early stopping. Best iteration is:\n",
      "[1000]\ttrain's rmse: 0.710225\tvalid's rmse: 1.42403\n"
     ]
    },
    {
     "name": "stderr",
     "output_type": "stream",
     "text": [
      "tune_min_child_samples, val_score: 1.056510:  80%|###############################2       | 4/5 [00:01<00:00,  2.14it/s][I 2020-03-24 17:45:26,187] Finished trial#3 resulted in value: 1.4240308613876744. Current best value is 1.0565098788943095 with parameters: {'min_child_samples': 5}.\n",
      "tune_min_child_samples, val_score: 1.056510:  80%|###############################2       | 4/5 [00:01<00:00,  2.14it/s]"
     ]
    },
    {
     "name": "stdout",
     "output_type": "stream",
     "text": [
      "Training until validation scores don't improve for 100 rounds\n",
      "[100]\ttrain's rmse: 1.8231\tvalid's rmse: 2.00684\n",
      "Early stopping, best iteration is:\n",
      "[44]\ttrain's rmse: 1.93338\tvalid's rmse: 1.99007\n"
     ]
    },
    {
     "name": "stderr",
     "output_type": "stream",
     "text": [
      "tune_min_child_samples, val_score: 1.056510: 100%|#######################################| 5/5 [00:02<00:00,  2.62it/s][I 2020-03-24 17:45:26,367] Finished trial#4 resulted in value: 1.9900727701320269. Current best value is 1.0565098788943095 with parameters: {'min_child_samples': 5}.\n",
      "tune_min_child_samples, val_score: 1.056510: 100%|#######################################| 5/5 [00:02<00:00,  2.34it/s]\n"
     ]
    },
    {
     "name": "stdout",
     "output_type": "stream",
     "text": [
      "Training until validation scores don't improve for 100 rounds\n",
      "[100]\ttrain's rmse: 0.472907\tvalid's rmse: 0.995427\n",
      "[200]\ttrain's rmse: 0.307228\tvalid's rmse: 0.943216\n",
      "[300]\ttrain's rmse: 0.21824\tvalid's rmse: 0.945746\n",
      "Early stopping, best iteration is:\n",
      "[239]\ttrain's rmse: 0.265462\tvalid's rmse: 0.940468\n",
      "Training until validation scores don't improve for 100 rounds\n",
      "[100]\ttrain's rmse: 0.505334\tvalid's rmse: 0.836757\n",
      "[200]\ttrain's rmse: 0.361476\tvalid's rmse: 0.802\n",
      "[300]\ttrain's rmse: 0.286413\tvalid's rmse: 0.767877\n",
      "[400]\ttrain's rmse: 0.229686\tvalid's rmse: 0.751145\n",
      "[500]\ttrain's rmse: 0.187253\tvalid's rmse: 0.745247\n",
      "[600]\ttrain's rmse: 0.161373\tvalid's rmse: 0.744548\n",
      "Early stopping, best iteration is:\n",
      "[552]\ttrain's rmse: 0.173886\tvalid's rmse: 0.74192\n",
      "Training until validation scores don't improve for 100 rounds\n",
      "[100]\ttrain's rmse: 0.504853\tvalid's rmse: 0.795799\n",
      "[200]\ttrain's rmse: 0.350015\tvalid's rmse: 0.77308\n",
      "[300]\ttrain's rmse: 0.272197\tvalid's rmse: 0.762937\n",
      "Early stopping, best iteration is:\n",
      "[272]\ttrain's rmse: 0.288856\tvalid's rmse: 0.756477\n",
      "Training until validation scores don't improve for 100 rounds\n",
      "[100]\ttrain's rmse: 0.422907\tvalid's rmse: 1.10203\n",
      "[200]\ttrain's rmse: 0.297479\tvalid's rmse: 1.02995\n",
      "[300]\ttrain's rmse: 0.230773\tvalid's rmse: 1.01015\n",
      "[400]\ttrain's rmse: 0.191687\tvalid's rmse: 0.998478\n",
      "[500]\ttrain's rmse: 0.157096\tvalid's rmse: 0.98815\n",
      "[600]\ttrain's rmse: 0.13119\tvalid's rmse: 0.982039\n",
      "[700]\ttrain's rmse: 0.111586\tvalid's rmse: 0.98062\n",
      "[800]\ttrain's rmse: 0.0964335\tvalid's rmse: 0.978796\n",
      "[900]\ttrain's rmse: 0.0831366\tvalid's rmse: 0.980294\n",
      "Early stopping, best iteration is:\n",
      "[802]\ttrain's rmse: 0.0958379\tvalid's rmse: 0.978198\n",
      "Training until validation scores don't improve for 100 rounds\n",
      "[100]\ttrain's rmse: 0.518922\tvalid's rmse: 0.731119\n",
      "[200]\ttrain's rmse: 0.374581\tvalid's rmse: 0.680793\n",
      "[300]\ttrain's rmse: 0.307314\tvalid's rmse: 0.65416\n",
      "[400]\ttrain's rmse: 0.245711\tvalid's rmse: 0.655167\n",
      "[500]\ttrain's rmse: 0.204464\tvalid's rmse: 0.646297\n",
      "[600]\ttrain's rmse: 0.173323\tvalid's rmse: 0.639036\n",
      "[700]\ttrain's rmse: 0.14953\tvalid's rmse: 0.637182\n",
      "[800]\ttrain's rmse: 0.129777\tvalid's rmse: 0.635803\n",
      "[900]\ttrain's rmse: 0.113558\tvalid's rmse: 0.636675\n",
      "Early stopping, best iteration is:\n",
      "[806]\ttrain's rmse: 0.128763\tvalid's rmse: 0.633923\n",
      "CV : 0.810197\n"
     ]
    },
    {
     "data": {
      "image/png": "[encoded data removed]",
      "text/plain": [
       "<Figure size 576x720 with 1 Axes>"
      ]
     },
     "metadata": {
      "needs_background": "light"
     },
     "output_type": "display_data"
    }
   ],
   "source": [
    "ml.run(scenario)"
   ]
  },
  {
   "cell_type": "code",
   "execution_count": 14,
   "metadata": {},
   "outputs": [],
   "source": [
    "df = pd.read_pickle(\"./structure_df_01.pkl\")\n",
    "df[\"pred\"] = ml.predicts.round().astype(int)\n",
    "df.to_csv(\"./lightgbm.csv\", index=False)"
   ]
  },
  {
   "cell_type": "code",
   "execution_count": 18,
   "metadata": {},
   "outputs": [
    {
     "data": {
      "text/plain": [
       "(113, 40)"
      ]
     },
     "execution_count": 18,
     "metadata": {},
     "output_type": "execute_result"
    }
   ],
   "source": [
    "ml.engine.train[ml.engine.train[\"k_class\"] != ml.engine.train[\"pred\"]].shape"
   ]
  },
  {
   "cell_type": "code",
   "execution_count": 20,
   "metadata": {},
   "outputs": [
    {
     "data": {
      "text/plain": [
       "0.8649940262843488"
      ]
     },
     "execution_count": 20,
     "metadata": {},
     "output_type": "execute_result"
    }
   ],
   "source": [
    "1.0 - (113.0/837.0)"
   ]
  },
  {
   "cell_type": "code",
   "execution_count": null,
   "metadata": {},
   "outputs": [],
   "source": []
  },
  {
   "cell_type": "code",
   "execution_count": null,
   "metadata": {},
   "outputs": [],
   "source": [
    "actual = pd.read_csv(\"../input/vortex/vortex_actual_05.csv\")\n",
    "actual[\"pred\"] = ml.predicts\n",
    "actual.to_csv(\"actual_05.csv\")"
   ]
  },
  {
   "cell_type": "code",
   "execution_count": null,
   "metadata": {},
   "outputs": [],
   "source": []
  },
  {
   "cell_type": "code",
   "execution_count": null,
   "metadata": {},
   "outputs": [],
   "source": []
  },
  {
   "cell_type": "code",
   "execution_count": null,
   "metadata": {},
   "outputs": [],
   "source": [
    "with open(\"selected.pkl\", \"rb\") as f:\n",
    "    hoge = pickle.load(f)"
   ]
  },
  {
   "cell_type": "code",
   "execution_count": null,
   "metadata": {},
   "outputs": [],
   "source": [
    "train = pd.read_csv(\"../input/train.csv\")\n",
    "test = pd.read_csv(\"../input/test.csv\")\n",
    "df = pd.concat([train, test])"
   ]
  },
  {
   "cell_type": "code",
   "execution_count": null,
   "metadata": {},
   "outputs": [],
   "source": [
    "train.info()"
   ]
  },
  {
   "cell_type": "code",
   "execution_count": null,
   "metadata": {},
   "outputs": [],
   "source": [
    "train.head()"
   ]
  },
  {
   "cell_type": "code",
   "execution_count": null,
   "metadata": {},
   "outputs": [],
   "source": []
  },
  {
   "cell_type": "code",
   "execution_count": null,
   "metadata": {},
   "outputs": [],
   "source": []
  },
  {
   "cell_type": "code",
   "execution_count": null,
   "metadata": {},
   "outputs": [],
   "source": []
  },
  {
   "cell_type": "code",
   "execution_count": null,
   "metadata": {},
   "outputs": [],
   "source": []
  },
  {
   "cell_type": "code",
   "execution_count": null,
   "metadata": {},
   "outputs": [],
   "source": []
  },
  {
   "cell_type": "code",
   "execution_count": null,
   "metadata": {},
   "outputs": [],
   "source": []
  },
  {
   "cell_type": "code",
   "execution_count": null,
   "metadata": {},
   "outputs": [],
   "source": []
  },
  {
   "cell_type": "code",
   "execution_count": null,
   "metadata": {},
   "outputs": [],
   "source": []
  },
  {
   "cell_type": "code",
   "execution_count": null,
   "metadata": {},
   "outputs": [],
   "source": []
  },
  {
   "cell_type": "code",
   "execution_count": null,
   "metadata": {},
   "outputs": [],
   "source": []
  },
  {
   "cell_type": "code",
   "execution_count": null,
   "metadata": {},
   "outputs": [],
   "source": []
  },
  {
   "cell_type": "code",
   "execution_count": null,
   "metadata": {},
   "outputs": [],
   "source": []
  },
  {
   "cell_type": "code",
   "execution_count": null,
   "metadata": {},
   "outputs": [],
   "source": []
  },
  {
   "cell_type": "code",
   "execution_count": null,
   "metadata": {},
   "outputs": [],
   "source": [
    "scaler = StandardScaler()\n",
    "scaler.fit(train[[\"Age\", \"Fare\"]])\n",
    "\n",
    "train[[\"Age\", \"Fare\"]] = scaler.transform(train[[\"Age\", \"Fare\"]])\n",
    "train[\"Age\"].fillna(-9999, inplace=True)\n",
    "train[\"Fare\"].fillna(-9999, inplace=True)"
   ]
  },
  {
   "cell_type": "code",
   "execution_count": null,
   "metadata": {},
   "outputs": [],
   "source": [
    "import umap\n",
    "\n",
    "um = umap.UMAP()\n",
    "um.fit(train[[\"Age\", \"Fare\"]])\n",
    "\n",
    "d = um.transform(train[[\"Age\", \"Fare\"]])"
   ]
  },
  {
   "cell_type": "code",
   "execution_count": null,
   "metadata": {},
   "outputs": [],
   "source": [
    "d[:, 1]"
   ]
  },
  {
   "cell_type": "code",
   "execution_count": null,
   "metadata": {},
   "outputs": [],
   "source": []
  },
  {
   "cell_type": "code",
   "execution_count": null,
   "metadata": {},
   "outputs": [],
   "source": [
    "train.head()"
   ]
  },
  {
   "cell_type": "code",
   "execution_count": null,
   "metadata": {},
   "outputs": [],
   "source": [
    "train[[\"Age\", \"Fare\"]] = train[[\"Age\", \"Fare\"]].replace(np.inf, np.nan)"
   ]
  },
  {
   "cell_type": "code",
   "execution_count": null,
   "metadata": {},
   "outputs": [],
   "source": [
    "df = pd.concat([ml.engine.train, ml.engine.test], ignore_index=True)\n",
    "skip_columns = [\"Survived\"]"
   ]
  },
  {
   "cell_type": "code",
   "execution_count": null,
   "metadata": {},
   "outputs": [],
   "source": [
    "feats = [f for f in df.columns if f not in skip_columns]\n",
    "num_columns = [col for col in feats if df[col].dtype.name in FeatureEngineering.NUMERICS and df[col].unique().shape[0] > 100]"
   ]
  },
  {
   "cell_type": "code",
   "execution_count": null,
   "metadata": {},
   "outputs": [],
   "source": [
    "num_columns"
   ]
  },
  {
   "cell_type": "code",
   "execution_count": null,
   "metadata": {},
   "outputs": [],
   "source": [
    "for col in num_columns:\n",
    "    df[col] = df[col].replace(np.inf, np.nan)\n",
    "    df[col].fillna(-9999, inplace=True)"
   ]
  },
  {
   "cell_type": "code",
   "execution_count": null,
   "metadata": {},
   "outputs": [],
   "source": [
    "um = umap.UMAP()\n",
    "um.fit(df[num_columns])\n",
    "df[num_columns] = um.transform(df[num_columns])"
   ]
  },
  {
   "cell_type": "code",
   "execution_count": null,
   "metadata": {},
   "outputs": [],
   "source": [
    "df[num_columns].shape"
   ]
  },
  {
   "cell_type": "code",
   "execution_count": null,
   "metadata": {},
   "outputs": [],
   "source": [
    "um.transform(df[num_columns])"
   ]
  },
  {
   "cell_type": "code",
   "execution_count": null,
   "metadata": {},
   "outputs": [],
   "source": []
  },
  {
   "cell_type": "code",
   "execution_count": null,
   "metadata": {},
   "outputs": [],
   "source": [
    "base_path = \"./\"\n",
    "base_score = 0.7681353456669913"
   ]
  },
  {
   "cell_type": "code",
   "execution_count": null,
   "metadata": {},
   "outputs": [],
   "source": [
    "best_score = 0.0\n",
    "selected = set([])\n",
    "params = None\n",
    "scenario = None\n",
    "with open(f\"{base_path}/param_{base_score}.json\") as f:\n",
    "    params = json.load(f)\n",
    "with open(f\"{base_path}/scenario_{base_score}.yml\", \"r\") as yml:\n",
    "    scenario = yaml.safe_load(yml)\n",
    "\n",
    "train = pd.read_pickle(f\"{base_path}/train_{base_score}.pkl\")\n",
    "test = pd.read_pickle(f\"{base_path}/test_{base_score}.pkl\")\n",
    "\n",
    "train_x = [f for f in train.columns if f not in [\"Survived\"]]"
   ]
  },
  {
   "cell_type": "code",
   "execution_count": null,
   "metadata": {},
   "outputs": [],
   "source": [
    "scores = []\n",
    "for col in train_x:\n",
    "    if col not in selected:\n",
    "        feats = list(selected) + [col]\n",
    "        param_with_score = 1\n",
    "        scores.append((col, param_with_score))"
   ]
  },
  {
   "cell_type": "code",
   "execution_count": null,
   "metadata": {},
   "outputs": [],
   "source": [
    "b_feature, b_score = sorted(scores, key=lambda tpl: tpl[1])[0]\n",
    "if b_score > best_score:\n",
    "    selected.add(b_feature)\n",
    "    best_score = b_score\n",
    "    print(f'selected:{b_feature}')\n",
    "    print(f'score:{b_score}')\n",
    "else:\n",
    "    break"
   ]
  }
 ],
 "metadata": {
  "kernelspec": {
   "display_name": "Python 3",
   "language": "python",
   "name": "python3"
  },
  "language_info": {
   "codemirror_mode": {
    "name": "ipython",
    "version": 3
   },
   "file_extension": ".py",
   "mimetype": "text/x-python",
   "name": "python",
   "nbconvert_exporter": "python",
   "pygments_lexer": "ipython3",
   "version": "3.7.4"
  }
 },
 "nbformat": 4,
 "nbformat_minor": 4
}
